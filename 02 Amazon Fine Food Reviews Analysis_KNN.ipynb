{
 "cells": [
  {
   "cell_type": "markdown",
   "metadata": {
    "collapsed": true
   },
   "source": [
    "#  Applying k Nearest Neighbours to classify Amazon reviews as Positive or Negative and testing the performance of this approach\n",
    "Data Source: https://www.kaggle.com/snap/amazon-fine-food-reviews\n",
    "\n",
    "The Amazon Fine Food Reviews dataset consists of reviews of fine foods from Amazon.\n",
    "\n",
    "Number of reviews: 568,454\n",
    "Number of users: 256,059\n",
    "Number of products: 74,258\n",
    "Timespan: Oct 1999 - Oct 2012\n",
    "Number of Attributes/Columns in data: 10\n",
    "\n",
    "Attribute Information:\n",
    "\n",
    "Id<br>\n",
    "ProductId - unique identifier for the product<br>\n",
    "UserId - unqiue identifier for the user<br>\n",
    "ProfileName<br>\n",
    "HelpfulnessNumerator - number of users who found the review helpful<br>\n",
    "HelpfulnessDenominator - number of users who indicated whether they found the review helpful or not<br>\n",
    "Score - rating between 1 and 5<br>\n",
    "Time - timestamp for the review<br>\n",
    "Summary - brief summary of the review<br>\n",
    "Text - text of the review<br>\n",
    "#### Objective:\n",
    "Given a review, generate its Bag-of-Words(BoW), TF-IDF, Average Word2Vec and TF-IDF weighted Word2Vec analysis models, and predict if the review is Positive or Negative by using the k Nearest Neihgbours Classification approach, both by the Brute Force and kD Tree methods.\n",
    "\n",
    "<b>Note:<b> As a reference, the reviews are marked as Positive/Negative using the Score/Rating. A rating of 4 or 5 is considered a positive review, whereas a review of 1 or 2 is considered negative. A review of 3 is nuetral and ignored. This is an approximate and proxy way of determining the polarity (positivity/negativity) of a review.\n",
    "The outputs obtained after training the model on this training data, is then comppared with this reference polarity to determine the performance of our model. "
   ]
  },
  {
   "cell_type": "markdown",
   "metadata": {},
   "source": [
    "##  Loading the data\n",
    "\n",
    "The dataset is available in two forms\n",
    "1. .csv file\n",
    "2. SQLite Database\n",
    "\n",
    "In order to load the data, We have used the SQLITE dataset as it easier to query the data and visualise the data efficiently.\n",
    "<br> \n",
    "\n",
    "Here as we only want to get the global sentiment of the recommendations (positive or negative), we will purposefully ignore all Scores equal to 3. If the score id above 3, then the recommendation wil be set to \"positive\". Otherwise, it will be set to \"negative\"."
   ]
  },
  {
   "cell_type": "code",
   "execution_count": 1,
   "metadata": {
    "collapsed": true
   },
   "outputs": [],
   "source": [
    "%matplotlib inline\n",
    "#Import all necessary libraries\n",
    "import warnings\n",
    "warnings.filterwarnings(\"ignore\")\n",
    "\n",
    "import sqlite3\n",
    "import pandas as pd\n",
    "import numpy as np\n",
    "import nltk\n",
    "import string\n",
    "import matplotlib.pyplot as plt\n",
    "import seaborn as sns\n",
    "from sklearn.feature_extraction.text import TfidfTransformer\n",
    "from sklearn.feature_extraction.text import TfidfVectorizer\n",
    "from sklearn.model_selection import TimeSeriesSplit\n",
    "from sklearn.preprocessing import StandardScaler\n",
    "from sklearn.decomposition import TruncatedSVD\n",
    "\n",
    "from sklearn.feature_extraction.text import CountVectorizer\n",
    "from sklearn.neighbors import KNeighborsClassifier\n",
    "from sklearn.metrics import confusion_matrix\n",
    "from sklearn import metrics\n",
    "from sklearn.metrics import roc_curve, auc\n",
    "from nltk.stem.porter import PorterStemmer\n",
    "\n",
    "import re\n",
    "# Tutorial about Python regular expressions: https://pymotw.com/2/re/\n",
    "import string\n",
    "from nltk.corpus import stopwords\n",
    "from nltk.stem import PorterStemmer\n",
    "from nltk.stem.wordnet import WordNetLemmatizer\n",
    "\n",
    "from gensim.models import Word2Vec\n",
    "from gensim.models import KeyedVectors\n",
    "import pickle\n",
    "\n",
    "from tqdm import tqdm\n",
    "import os\n",
    "import datetime"
   ]
  },
  {
   "cell_type": "code",
   "execution_count": 2,
   "metadata": {},
   "outputs": [
    {
     "name": "stdout",
     "output_type": "stream",
     "text": [
      "Number of data points in our data (525814, 10)\n"
     ]
    },
    {
     "data": {
      "text/html": [
       "<div>\n",
       "<style scoped>\n",
       "    .dataframe tbody tr th:only-of-type {\n",
       "        vertical-align: middle;\n",
       "    }\n",
       "\n",
       "    .dataframe tbody tr th {\n",
       "        vertical-align: top;\n",
       "    }\n",
       "\n",
       "    .dataframe thead th {\n",
       "        text-align: right;\n",
       "    }\n",
       "</style>\n",
       "<table border=\"1\" class=\"dataframe\">\n",
       "  <thead>\n",
       "    <tr style=\"text-align: right;\">\n",
       "      <th></th>\n",
       "      <th>Id</th>\n",
       "      <th>ProductId</th>\n",
       "      <th>UserId</th>\n",
       "      <th>ProfileName</th>\n",
       "      <th>HelpfulnessNumerator</th>\n",
       "      <th>HelpfulnessDenominator</th>\n",
       "      <th>Score</th>\n",
       "      <th>Time</th>\n",
       "      <th>Summary</th>\n",
       "      <th>Text</th>\n",
       "    </tr>\n",
       "  </thead>\n",
       "  <tbody>\n",
       "    <tr>\n",
       "      <th>0</th>\n",
       "      <td>1</td>\n",
       "      <td>B001E4KFG0</td>\n",
       "      <td>A3SGXH7AUHU8GW</td>\n",
       "      <td>delmartian</td>\n",
       "      <td>1</td>\n",
       "      <td>1</td>\n",
       "      <td>1</td>\n",
       "      <td>1303862400</td>\n",
       "      <td>Good Quality Dog Food</td>\n",
       "      <td>I have bought several of the Vitality canned d...</td>\n",
       "    </tr>\n",
       "    <tr>\n",
       "      <th>1</th>\n",
       "      <td>2</td>\n",
       "      <td>B00813GRG4</td>\n",
       "      <td>A1D87F6ZCVE5NK</td>\n",
       "      <td>dll pa</td>\n",
       "      <td>0</td>\n",
       "      <td>0</td>\n",
       "      <td>0</td>\n",
       "      <td>1346976000</td>\n",
       "      <td>Not as Advertised</td>\n",
       "      <td>Product arrived labeled as Jumbo Salted Peanut...</td>\n",
       "    </tr>\n",
       "    <tr>\n",
       "      <th>2</th>\n",
       "      <td>3</td>\n",
       "      <td>B000LQOCH0</td>\n",
       "      <td>ABXLMWJIXXAIN</td>\n",
       "      <td>Natalia Corres \"Natalia Corres\"</td>\n",
       "      <td>1</td>\n",
       "      <td>1</td>\n",
       "      <td>1</td>\n",
       "      <td>1219017600</td>\n",
       "      <td>\"Delight\" says it all</td>\n",
       "      <td>This is a confection that has been around a fe...</td>\n",
       "    </tr>\n",
       "  </tbody>\n",
       "</table>\n",
       "</div>"
      ],
      "text/plain": [
       "   Id   ProductId          UserId                      ProfileName  \\\n",
       "0   1  B001E4KFG0  A3SGXH7AUHU8GW                       delmartian   \n",
       "1   2  B00813GRG4  A1D87F6ZCVE5NK                           dll pa   \n",
       "2   3  B000LQOCH0   ABXLMWJIXXAIN  Natalia Corres \"Natalia Corres\"   \n",
       "\n",
       "   HelpfulnessNumerator  HelpfulnessDenominator  Score        Time  \\\n",
       "0                     1                       1      1  1303862400   \n",
       "1                     0                       0      0  1346976000   \n",
       "2                     1                       1      1  1219017600   \n",
       "\n",
       "                 Summary                                               Text  \n",
       "0  Good Quality Dog Food  I have bought several of the Vitality canned d...  \n",
       "1      Not as Advertised  Product arrived labeled as Jumbo Salted Peanut...  \n",
       "2  \"Delight\" says it all  This is a confection that has been around a fe...  "
      ]
     },
     "execution_count": 2,
     "metadata": {},
     "output_type": "execute_result"
    }
   ],
   "source": [
    "# using the SQLite Table to read data.\n",
    "con = sqlite3.connect('database.sqlite') \n",
    "#filtering only positive and negative reviews i.e. \n",
    "# not taking into consideration those reviews with Score=3\n",
    "filtered_data = pd.read_sql_query(\"\"\" SELECT * FROM Reviews WHERE Score != 3 \"\"\", con) \n",
    "\n",
    "\n",
    "# Give reviews with Score>3 a positive rating, and reviews with a score<3 a negative rating.\n",
    "def partition(x):\n",
    "    if x < 3:\n",
    "        return 0\n",
    "    return 1\n",
    "\n",
    "#changing reviews with score less than 3 to be positive and vice-versa\n",
    "actualScore = filtered_data['Score']\n",
    "positiveNegative = actualScore.map(partition) \n",
    "filtered_data['Score'] = positiveNegative\n",
    "print(\"Number of data points in our data\", filtered_data.shape)\n",
    "filtered_data.head(3)"
   ]
  },
  {
   "cell_type": "markdown",
   "metadata": {},
   "source": [
    "#  Exploratory Data Analysis\n",
    "\n",
    "## Data Cleaning: Deduplication\n",
    "\n",
    "It is observed (as shown in the table below) that the reviews data had many duplicate entries. Hence it was necessary to remove duplicates in order to get unbiased results for the analysis of the data.  Following is an example:"
   ]
  },
  {
   "cell_type": "code",
   "execution_count": 3,
   "metadata": {},
   "outputs": [
    {
     "data": {
      "text/html": [
       "<div>\n",
       "<style scoped>\n",
       "    .dataframe tbody tr th:only-of-type {\n",
       "        vertical-align: middle;\n",
       "    }\n",
       "\n",
       "    .dataframe tbody tr th {\n",
       "        vertical-align: top;\n",
       "    }\n",
       "\n",
       "    .dataframe thead th {\n",
       "        text-align: right;\n",
       "    }\n",
       "</style>\n",
       "<table border=\"1\" class=\"dataframe\">\n",
       "  <thead>\n",
       "    <tr style=\"text-align: right;\">\n",
       "      <th></th>\n",
       "      <th>Id</th>\n",
       "      <th>ProductId</th>\n",
       "      <th>UserId</th>\n",
       "      <th>ProfileName</th>\n",
       "      <th>HelpfulnessNumerator</th>\n",
       "      <th>HelpfulnessDenominator</th>\n",
       "      <th>Score</th>\n",
       "      <th>Time</th>\n",
       "      <th>Summary</th>\n",
       "      <th>Text</th>\n",
       "    </tr>\n",
       "  </thead>\n",
       "  <tbody>\n",
       "    <tr>\n",
       "      <th>0</th>\n",
       "      <td>78445</td>\n",
       "      <td>B000HDL1RQ</td>\n",
       "      <td>AR5J8UI46CURR</td>\n",
       "      <td>Geetha Krishnan</td>\n",
       "      <td>2</td>\n",
       "      <td>2</td>\n",
       "      <td>5</td>\n",
       "      <td>1199577600</td>\n",
       "      <td>LOACKER QUADRATINI VANILLA WAFERS</td>\n",
       "      <td>DELICIOUS WAFERS. I FIND THAT EUROPEAN WAFERS ...</td>\n",
       "    </tr>\n",
       "    <tr>\n",
       "      <th>1</th>\n",
       "      <td>138317</td>\n",
       "      <td>B000HDOPYC</td>\n",
       "      <td>AR5J8UI46CURR</td>\n",
       "      <td>Geetha Krishnan</td>\n",
       "      <td>2</td>\n",
       "      <td>2</td>\n",
       "      <td>5</td>\n",
       "      <td>1199577600</td>\n",
       "      <td>LOACKER QUADRATINI VANILLA WAFERS</td>\n",
       "      <td>DELICIOUS WAFERS. I FIND THAT EUROPEAN WAFERS ...</td>\n",
       "    </tr>\n",
       "    <tr>\n",
       "      <th>2</th>\n",
       "      <td>138277</td>\n",
       "      <td>B000HDOPYM</td>\n",
       "      <td>AR5J8UI46CURR</td>\n",
       "      <td>Geetha Krishnan</td>\n",
       "      <td>2</td>\n",
       "      <td>2</td>\n",
       "      <td>5</td>\n",
       "      <td>1199577600</td>\n",
       "      <td>LOACKER QUADRATINI VANILLA WAFERS</td>\n",
       "      <td>DELICIOUS WAFERS. I FIND THAT EUROPEAN WAFERS ...</td>\n",
       "    </tr>\n",
       "    <tr>\n",
       "      <th>3</th>\n",
       "      <td>73791</td>\n",
       "      <td>B000HDOPZG</td>\n",
       "      <td>AR5J8UI46CURR</td>\n",
       "      <td>Geetha Krishnan</td>\n",
       "      <td>2</td>\n",
       "      <td>2</td>\n",
       "      <td>5</td>\n",
       "      <td>1199577600</td>\n",
       "      <td>LOACKER QUADRATINI VANILLA WAFERS</td>\n",
       "      <td>DELICIOUS WAFERS. I FIND THAT EUROPEAN WAFERS ...</td>\n",
       "    </tr>\n",
       "    <tr>\n",
       "      <th>4</th>\n",
       "      <td>155049</td>\n",
       "      <td>B000PAQ75C</td>\n",
       "      <td>AR5J8UI46CURR</td>\n",
       "      <td>Geetha Krishnan</td>\n",
       "      <td>2</td>\n",
       "      <td>2</td>\n",
       "      <td>5</td>\n",
       "      <td>1199577600</td>\n",
       "      <td>LOACKER QUADRATINI VANILLA WAFERS</td>\n",
       "      <td>DELICIOUS WAFERS. I FIND THAT EUROPEAN WAFERS ...</td>\n",
       "    </tr>\n",
       "  </tbody>\n",
       "</table>\n",
       "</div>"
      ],
      "text/plain": [
       "       Id   ProductId         UserId      ProfileName  HelpfulnessNumerator  \\\n",
       "0   78445  B000HDL1RQ  AR5J8UI46CURR  Geetha Krishnan                     2   \n",
       "1  138317  B000HDOPYC  AR5J8UI46CURR  Geetha Krishnan                     2   \n",
       "2  138277  B000HDOPYM  AR5J8UI46CURR  Geetha Krishnan                     2   \n",
       "3   73791  B000HDOPZG  AR5J8UI46CURR  Geetha Krishnan                     2   \n",
       "4  155049  B000PAQ75C  AR5J8UI46CURR  Geetha Krishnan                     2   \n",
       "\n",
       "   HelpfulnessDenominator  Score        Time  \\\n",
       "0                       2      5  1199577600   \n",
       "1                       2      5  1199577600   \n",
       "2                       2      5  1199577600   \n",
       "3                       2      5  1199577600   \n",
       "4                       2      5  1199577600   \n",
       "\n",
       "                             Summary  \\\n",
       "0  LOACKER QUADRATINI VANILLA WAFERS   \n",
       "1  LOACKER QUADRATINI VANILLA WAFERS   \n",
       "2  LOACKER QUADRATINI VANILLA WAFERS   \n",
       "3  LOACKER QUADRATINI VANILLA WAFERS   \n",
       "4  LOACKER QUADRATINI VANILLA WAFERS   \n",
       "\n",
       "                                                Text  \n",
       "0  DELICIOUS WAFERS. I FIND THAT EUROPEAN WAFERS ...  \n",
       "1  DELICIOUS WAFERS. I FIND THAT EUROPEAN WAFERS ...  \n",
       "2  DELICIOUS WAFERS. I FIND THAT EUROPEAN WAFERS ...  \n",
       "3  DELICIOUS WAFERS. I FIND THAT EUROPEAN WAFERS ...  \n",
       "4  DELICIOUS WAFERS. I FIND THAT EUROPEAN WAFERS ...  "
      ]
     },
     "execution_count": 3,
     "metadata": {},
     "output_type": "execute_result"
    }
   ],
   "source": [
    "display= pd.read_sql_query(\"\"\"\n",
    "SELECT *\n",
    "FROM Reviews\n",
    "WHERE Score != 3 AND UserId=\"AR5J8UI46CURR\"\n",
    "ORDER BY ProductID\n",
    "\"\"\", con)\n",
    "display.head()"
   ]
  },
  {
   "cell_type": "markdown",
   "metadata": {},
   "source": [
    "As we can see above, the same user has multiple reviews with the same values for HelpfulnessNumerator, HelpfulnessDenominator, Score, Time, Summary and Text  and on doing analysis it was found that :\n",
    "<br> <br>\n",
    "ProductId=B000HDOPZG was Loacker Quadratini <b>Vanilla</b> Wafer Cookies, 8.82-Ounce Packages (Pack of 8)<br>\n",
    "<br> \n",
    "ProductId=B000HDL1RQ was Loacker Quadratini <b>Lemon</b> Wafer Cookies, 8.82-Ounce Packages (Pack of 8), and so on<br>\n",
    "\n",
    "Thus, we can see that they are the same product, but of different flavors. Hence, the rows having the same values of the parameters mentioned above were eliminated for reducing redundancy.<br>\n",
    "\n",
    "The method used for the same is to first sort the data according to ProductId and then retain only the first product review details, while deleting the rest. For example, out of he above lines, just the review for ProductId=B000HDL1RQ is retained and others deleted. This method ensures that only one representative for each product from any given user remains."
   ]
  },
  {
   "cell_type": "code",
   "execution_count": 4,
   "metadata": {},
   "outputs": [
    {
     "name": "stdout",
     "output_type": "stream",
     "text": [
      "(364173, 10)\n"
     ]
    },
    {
     "data": {
      "text/plain": [
       "69.25890143662969"
      ]
     },
     "execution_count": 4,
     "metadata": {},
     "output_type": "execute_result"
    }
   ],
   "source": [
    "#Sorting data according to ProductId in ascending order\n",
    "sorted_data=filtered_data.sort_values('ProductId', axis=0, ascending=True, inplace=False, kind='quicksort', na_position='last')\n",
    "\n",
    "#Deduplication of entries\n",
    "final=sorted_data.drop_duplicates(subset={\"UserId\",\"ProfileName\",\"Time\",\"Text\"}, keep='first', inplace=False)\n",
    "print(final.shape)\n",
    "\n",
    "#Checking to see how much % of data still remains\n",
    "(final['Id'].size*1.0)/(filtered_data['Id'].size*1.0)*100"
   ]
  },
  {
   "cell_type": "markdown",
   "metadata": {},
   "source": [
    "<b>Observation:-</b> It was also seen that in the two rows given below, the value of HelpfulnessNumerator is greater than HelpfulnessDenominator which is not practically possible hence these two rows too are removed from our calcualtions."
   ]
  },
  {
   "cell_type": "code",
   "execution_count": 5,
   "metadata": {},
   "outputs": [
    {
     "data": {
      "text/html": [
       "<div>\n",
       "<style scoped>\n",
       "    .dataframe tbody tr th:only-of-type {\n",
       "        vertical-align: middle;\n",
       "    }\n",
       "\n",
       "    .dataframe tbody tr th {\n",
       "        vertical-align: top;\n",
       "    }\n",
       "\n",
       "    .dataframe thead th {\n",
       "        text-align: right;\n",
       "    }\n",
       "</style>\n",
       "<table border=\"1\" class=\"dataframe\">\n",
       "  <thead>\n",
       "    <tr style=\"text-align: right;\">\n",
       "      <th></th>\n",
       "      <th>Id</th>\n",
       "      <th>ProductId</th>\n",
       "      <th>UserId</th>\n",
       "      <th>ProfileName</th>\n",
       "      <th>HelpfulnessNumerator</th>\n",
       "      <th>HelpfulnessDenominator</th>\n",
       "      <th>Score</th>\n",
       "      <th>Time</th>\n",
       "      <th>Summary</th>\n",
       "      <th>Text</th>\n",
       "    </tr>\n",
       "  </thead>\n",
       "  <tbody>\n",
       "    <tr>\n",
       "      <th>0</th>\n",
       "      <td>64422</td>\n",
       "      <td>B000MIDROQ</td>\n",
       "      <td>A161DK06JJMCYF</td>\n",
       "      <td>J. E. Stephens \"Jeanne\"</td>\n",
       "      <td>3</td>\n",
       "      <td>1</td>\n",
       "      <td>5</td>\n",
       "      <td>1224892800</td>\n",
       "      <td>Bought This for My Son at College</td>\n",
       "      <td>My son loves spaghetti so I didn't hesitate or...</td>\n",
       "    </tr>\n",
       "    <tr>\n",
       "      <th>1</th>\n",
       "      <td>44737</td>\n",
       "      <td>B001EQ55RW</td>\n",
       "      <td>A2V0I904FH7ABY</td>\n",
       "      <td>Ram</td>\n",
       "      <td>3</td>\n",
       "      <td>2</td>\n",
       "      <td>4</td>\n",
       "      <td>1212883200</td>\n",
       "      <td>Pure cocoa taste with crunchy almonds inside</td>\n",
       "      <td>It was almost a 'love at first bite' - the per...</td>\n",
       "    </tr>\n",
       "  </tbody>\n",
       "</table>\n",
       "</div>"
      ],
      "text/plain": [
       "      Id   ProductId          UserId              ProfileName  \\\n",
       "0  64422  B000MIDROQ  A161DK06JJMCYF  J. E. Stephens \"Jeanne\"   \n",
       "1  44737  B001EQ55RW  A2V0I904FH7ABY                      Ram   \n",
       "\n",
       "   HelpfulnessNumerator  HelpfulnessDenominator  Score        Time  \\\n",
       "0                     3                       1      5  1224892800   \n",
       "1                     3                       2      4  1212883200   \n",
       "\n",
       "                                        Summary  \\\n",
       "0             Bought This for My Son at College   \n",
       "1  Pure cocoa taste with crunchy almonds inside   \n",
       "\n",
       "                                                Text  \n",
       "0  My son loves spaghetti so I didn't hesitate or...  \n",
       "1  It was almost a 'love at first bite' - the per...  "
      ]
     },
     "execution_count": 5,
     "metadata": {},
     "output_type": "execute_result"
    }
   ],
   "source": [
    "display= pd.read_sql_query(\"\"\"\n",
    "SELECT *\n",
    "FROM Reviews\n",
    "WHERE Score != 3 AND Id=44737 OR Id=64422\n",
    "ORDER BY ProductID\n",
    "\"\"\", con)\n",
    "\n",
    "display.head()"
   ]
  },
  {
   "cell_type": "code",
   "execution_count": 6,
   "metadata": {},
   "outputs": [
    {
     "name": "stdout",
     "output_type": "stream",
     "text": [
      "(364171, 10)\n"
     ]
    },
    {
     "data": {
      "text/plain": [
       "1    307061\n",
       "0     57110\n",
       "Name: Score, dtype: int64"
      ]
     },
     "execution_count": 6,
     "metadata": {},
     "output_type": "execute_result"
    }
   ],
   "source": [
    "final=final[final.HelpfulnessNumerator<=final.HelpfulnessDenominator]\n",
    "#Before starting the next phase of preprocessing let's see the number of entries left\n",
    "print(final.shape)\n",
    "\n",
    "#How many positive and negative reviews each are present in our dataset?\n",
    "final['Score'].value_counts()"
   ]
  },
  {
   "cell_type": "markdown",
   "metadata": {},
   "source": [
    "## Text Preprocessing: Stemming, stop-word removal and Lemmatization.\n",
    "\n",
    "Having finished deduplication, our data still requires some preprocessing before we can go on further with analysis and visualization.\n",
    "Hence in the Preprocessing phase we do the following in the given order:-\n",
    "\n",
    "1. Begin by removing the html tags\n",
    "2. Remove any punctuations or limited set of special characters like , or . or # etc.\n",
    "3. Check if the word is made up of english letters and is not alpha-numeric\n",
    "4. Check to see if the length of the word is greater than 2 (as it was researched that there is no adjective in 2-letters)\n",
    "5. Convert the word to lowercase\n",
    "6. Remove Stopwords\n",
    "7. Finally Snowball Stemming the word (it was obsereved to be better than Porter Stemming)<br>\n",
    "\n",
    "After which we collect the words used to describe positive and negative reviews"
   ]
  },
  {
   "cell_type": "code",
   "execution_count": 7,
   "metadata": {},
   "outputs": [
    {
     "name": "stdout",
     "output_type": "stream",
     "text": [
      "6\n",
      "I set aside at least an hour each day to read to my son (3 y/o). At this point, I consider myself a connoisseur of children's books and this is one of the best. Santa Clause put this under the tree. Since then, we've read it perpetually and he loves it.<br /><br />First, this book taught him the months of the year.<br /><br />Second, it's a pleasure to read. Well suited to 1.5 y/o old to 4+.<br /><br />Very few children's books are worth owning. Most should be borrowed from the library. This book, however, deserves a permanent spot on your shelf. Sendak's best.\n"
     ]
    }
   ],
   "source": [
    "# find sentences containing HTML tags\n",
    "import re\n",
    "i=0;\n",
    "for sent in final['Text'].values:\n",
    "    if (len(re.findall('<.*?>', sent))):\n",
    "        print(i)\n",
    "        print(sent)\n",
    "        break;\n",
    "    i += 1;"
   ]
  },
  {
   "cell_type": "code",
   "execution_count": 8,
   "metadata": {},
   "outputs": [
    {
     "name": "stdout",
     "output_type": "stream",
     "text": [
      "{'then', 'yourself', 'too', 'once', 'is', \"should've\", 'had', 'didn', 'there', \"mightn't\", 'before', 'you', \"wasn't\", 'on', \"wouldn't\", 'will', 'been', 'have', 'did', 'don', \"couldn't\", 'why', 'own', 'be', 'when', 'so', 'wouldn', 'should', 'now', \"shan't\", \"won't\", 'both', 'll', 'they', 'between', 'mightn', \"shouldn't\", \"don't\", 'haven', 't', 'a', 'such', 'not', 'wasn', 'ours', 'same', 're', \"weren't\", 'from', 'over', 'few', 'as', 'all', 'having', 'just', 'below', 'won', 'm', 'y', 'hadn', \"mustn't\", 'myself', 'how', \"it's\", \"haven't\", 'our', 'them', 'each', 'her', 'itself', 'the', 'for', 'these', 'being', 'weren', 'with', 'about', \"doesn't\", 'were', 'of', 'isn', 'was', 'after', 'or', 'here', 'those', \"you'd\", \"hasn't\", 'my', 'this', 'by', 'ourselves', 'than', 'doesn', \"you've\", 'what', 'only', 'again', 'because', 'and', 'hasn', 'through', 'shan', 'his', 'yourselves', 'whom', 'in', \"aren't\", \"you'll\", 'mustn', 'most', 'against', 'are', 'some', \"needn't\", \"didn't\", 'that', 'no', 'couldn', 'd', \"you're\", 've', 'if', 'theirs', 'i', 'am', 'shouldn', 'under', 'hers', 'into', 'who', 'while', 'themselves', 'me', \"that'll\", 'aren', 'further', \"hadn't\", 'he', 'down', 'out', 'off', 'up', 'at', 'him', 'has', 'very', 'nor', 'until', 'she', 'to', 'himself', 'which', 'your', 'their', 'other', 'herself', 'its', 'do', 'needn', 'o', 'doing', 'it', 'ma', 'where', 'we', 'yours', 'can', 'more', 'but', 'an', 'above', \"she's\", 'does', 's', \"isn't\", 'ain', 'during', 'any'}\n",
      "************************************\n",
      "tasti\n"
     ]
    }
   ],
   "source": [
    "stop = set(stopwords.words('english')) #set of stopwords\n",
    "sno = nltk.stem.SnowballStemmer('english') #initialising the snowball stemmer\n",
    "\n",
    "def cleanhtml(sentence): #function to clean the word of any html-tags\n",
    "    cleanr = re.compile('<.*?>')\n",
    "    cleantext = re.sub(cleanr, ' ', sentence)\n",
    "    return cleantext\n",
    "def cleanpunc(sentence): #function to clean the word of any punctuation or special characters\n",
    "    cleaned = re.sub(r'[?|!|\\'|\"|#]',r'',sentence)\n",
    "    cleaned = re.sub(r'[.|,|)|(|\\|/]',r' ',cleaned)\n",
    "    return  cleaned\n",
    "print(stop)\n",
    "print('************************************')\n",
    "print(sno.stem('tasty'))"
   ]
  },
  {
   "cell_type": "markdown",
   "metadata": {},
   "source": [
    "## Code for implementing all preprocessing steps mentioned earlier\n",
    "In this step, each review is stripped of its HTML tags, punctuation marks and stopwords, before storing it in an SQL LITE file.\n",
    "Since these steps are applied on each of the ~400K reviews serially, it takes a while to run."
   ]
  },
  {
   "cell_type": "code",
   "execution_count": 9,
   "metadata": {
    "collapsed": true
   },
   "outputs": [],
   "source": [
    "# This code takes a while to run as it needs to run on 500k sentences.\n",
    "if not os.path.isfile('final.sqlite'):\n",
    "    final_string=[]\n",
    "    all_positive_words=[] # store words from +ve reviews here\n",
    "    all_negative_words=[] # store words from -ve reviews here.\n",
    "    for i, sent in enumerate(tqdm(final['Text'].values)):\n",
    "        filtered_sentence=[]\n",
    "        #print(sent);\n",
    "        sent=cleanhtml(sent) # remove HTMl tags\n",
    "        for w in sent.split():\n",
    "            # we have used cleanpunc(w).split(), one more split function here because consider w=\"abc.def\", cleanpunc(w) will return \"abc def\"\n",
    "            # if we dont use .split() function then we will be considring \"abc def\" as a single word, but if you use .split() function we will get \"abc\", \"def\"\n",
    "            for cleaned_words in cleanpunc(w).split():\n",
    "                if((cleaned_words.isalpha()) & (len(cleaned_words)>2)):    \n",
    "                    if(cleaned_words.lower() not in stop):\n",
    "                        s=(sno.stem(cleaned_words.lower())).encode('utf8')\n",
    "                        filtered_sentence.append(s)\n",
    "                        if (final['Score'].values)[i] == 1: \n",
    "                            all_positive_words.append(s) #list of all words used to describe positive reviews\n",
    "                        if(final['Score'].values)[i] == 0:\n",
    "                            all_negative_words.append(s) #list of all words used to describe negative reviews reviews\n",
    "        str1 = b\" \".join(filtered_sentence) #final string of cleaned words\n",
    "        #print(\"***********************************************************************\")\n",
    "        final_string.append(str1)\n",
    "\n",
    "    #############---- storing the data into .sqlite file ------########################\n",
    "    final['CleanedText']=final_string #adding a column of CleanedText which displays the data after pre-processing of the review \n",
    "    final['CleanedText']=final['CleanedText'].str.decode(\"utf-8\")\n",
    "    \n",
    "    # store final table into an SQlLite table for future.\n",
    "    conn = sqlite3.connect('final.sqlite')\n",
    "    c=conn.cursor()\n",
    "    conn.text_factory = str\n",
    "    final.to_sql('Reviews', conn,  schema=None, if_exists='replace', \\\n",
    "                 index=True, index_label=None, chunksize=None, dtype=None)\n",
    "    conn.close()\n",
    "    \n",
    "    \n",
    "    with open('positive_words.pkl', 'wb') as f:\n",
    "        pickle.dump(all_positive_words, f)\n",
    "    with open('negitive_words.pkl', 'wb') as f:\n",
    "        pickle.dump(all_negative_words, f)"
   ]
  },
  {
   "cell_type": "code",
   "execution_count": 10,
   "metadata": {},
   "outputs": [
    {
     "name": "stdout",
     "output_type": "stream",
     "text": [
      "    index      Id   ProductId          UserId      ProfileName  \\\n",
      "0  138706  150524  0006641040   ACITT7DI6IDDL  shari zychinski   \n",
      "1  138688  150506  0006641040  A2IW4PEEKO2R0U            Tracy   \n",
      "\n",
      "   HelpfulnessNumerator  HelpfulnessDenominator  Score        Time  \\\n",
      "0                     0                       0      1   939340800   \n",
      "1                     1                       1      1  1194739200   \n",
      "\n",
      "                                      Summary  \\\n",
      "0                   EVERY book is educational   \n",
      "1  Love the book, miss the hard cover version   \n",
      "\n",
      "                                                Text  \\\n",
      "0  this witty little book makes my son laugh at l...   \n",
      "1  I grew up reading these Sendak books, and watc...   \n",
      "\n",
      "                                         CleanedText  \n",
      "0  witti littl book make son laugh loud recit car...  \n",
      "1  grew read sendak book watch realli rosi movi i...  \n"
     ]
    }
   ],
   "source": [
    "if os.path.isfile('final.sqlite'):\n",
    "    conn = sqlite3.connect('final.sqlite')\n",
    "    final = pd.read_sql_query(\"\"\" SELECT * FROM Reviews WHERE Score != 3 \"\"\", conn)\n",
    "    conn.close()\n",
    "else:\n",
    "    print(\"Please execute the above cell\")\n",
    "print(final.head(2))"
   ]
  },
  {
   "cell_type": "markdown",
   "metadata": {},
   "source": [
    "# Random Sampling and Time-based Slicing of the Dataset\n",
    "\n",
    "We will be randomly sampling the dataset for 100K reviews and sorting them in increasing order of their timestamp, i.e. from the earliest to the latest.<br> After that, we are splitting the 100K datapoints into Train and Test Sets, with the first 70% being the Train and the remaining or latter 30% being the Test Set. However, to tune our KNN model and find the optimal value of k(no. of neighbors), we will again be splitting the Train Set into Train and Cross-Valiudation(CV) sets, with the initial 70%(49K rows) being the Train Set, and the remaining 30%(21K rows) the CV set."
   ]
  },
  {
   "cell_type": "code",
   "execution_count": 11,
   "metadata": {},
   "outputs": [
    {
     "name": "stdout",
     "output_type": "stream",
     "text": [
      "1    84163\n",
      "0    15837\n",
      "Name: Score, dtype: int64\n"
     ]
    }
   ],
   "source": [
    "data = final.sample(100000, random_state=0)\n",
    "#print(data.shape)\n",
    "#Convert the Timestamp values(given in seconds) in the Time column to Dates\n",
    "data.Time = pd.to_datetime(data.Time, unit='s')\n",
    "data.sort_values(by='Time', inplace=True)\n",
    "print(data[\"Score\"].value_counts())"
   ]
  },
  {
   "cell_type": "code",
   "execution_count": 12,
   "metadata": {},
   "outputs": [
    {
     "name": "stdout",
     "output_type": "stream",
     "text": [
      "(70000, 11) (70000,)\n",
      "(30000, 11) (30000,)\n"
     ]
    }
   ],
   "source": [
    "#from sklearn.cross_validation import train_test_split\n",
    "train_text = data[:70000]\n",
    "test_text = data[70000:]\n",
    "y_train = train_text['Score']\n",
    "X_train = train_text.drop(['Score'], axis=1)\n",
    "y_test = test_text['Score']\n",
    "X_test = test_text.drop(['Score'], axis=1)\n",
    "\n",
    "print(X_train.shape, y_train.shape)\n",
    "#print(type(y_train), type(y_test))\n",
    "print(X_test.shape, y_test.shape)\n",
    "\n",
    "# Creating the Training and Cross-Validation sets from X_train, \n",
    "# with the first 70% being Training Set and later 30% being the CV Set\n",
    "X_tr = X_train.iloc[:-21000][['CleanedText']]\n",
    "y_tr = y_train.iloc[:-21000]\n",
    "X_cv = X_train.iloc[-21000:][['CleanedText']]\n",
    "y_cv = y_train.iloc[-21000:]"
   ]
  },
  {
   "cell_type": "markdown",
   "metadata": {},
   "source": [
    "# Bag of Words (BoW)\n",
    "We are generating a Bag of Words model only from the first 100K reviews of the preprocessed and Time-sorted dataset in order to prevent too many features in the generated Bag of Words model, and reduce computation time."
   ]
  },
  {
   "cell_type": "code",
   "execution_count": 56,
   "metadata": {},
   "outputs": [
    {
     "name": "stdout",
     "output_type": "stream",
     "text": [
      "Number of unique words in the BoW model : 26889\n"
     ]
    }
   ],
   "source": [
    "#Creating the BoW model on the Training Set and applying it to the CV set\n",
    "vec = CountVectorizer()#max_features=2500, min_df=40)\n",
    "vec.fit(X_tr.CleanedText.values)\n",
    "bow_train = vec.transform(X_tr.CleanedText.values)\n",
    "bow_cv = vec.transform(X_cv.CleanedText.values)\n",
    "print(\"Number of unique words in the BoW model :\", bow_train.get_shape()[1])\n",
    "\n",
    "#Using Truncated SVD to find Optimal number of dimensions to reduce the BoW models to\n",
    "#Initially, it is run with one-tenth the number of actual dimensions of the Bow Train model\n",
    "tsvd = TruncatedSVD(n_components= bow_train.get_shape()[1]//10)\n",
    "bow_train_tsvd = tsvd.fit_transform(bow_train)\n",
    "\n",
    "#Here, the percentage of variance explained by each component is calculated\n",
    "#Then, no. of components which explain >90% variance is taken as required no. of components\n",
    "per_explained_variances = np.var(bow_train_tsvd, axis=0) * 100.0/np.var(bow_train_tsvd, axis=0).sum()\n",
    "cum_explained_var = np.cumsum(per_explained_variances)\n",
    "n_comps = np.where(cum_explained_var>=90.0)[0][0] + 1\n",
    "\n",
    "#Reducing the BoW models to the only the required no. of components\n",
    "tsvd = TruncatedSVD(n_components = n_comps)\n",
    "bow_train = tsvd.fit_transform(bow_train)\n",
    "bow_cv = tsvd.transform(bow_cv)\n",
    "\n",
    "#Standardizing the Train and CV sets\n",
    "bow_train = StandardScaler().fit_transform(bow_train)\n",
    "bow_cv = StandardScaler().fit_transform(bow_cv)"
   ]
  },
  {
   "cell_type": "markdown",
   "metadata": {},
   "source": [
    "<b>Observation :</b> Since there are about 27K unique words in the model, it corresponds to that many different dimensions for each datapoint. That is too many points for KNN to work efficiently on. <br>\n",
    "Hence, we use the Truncated SVD(Single Value Decomposition) algorithm to reduce the dimensions to a more manageable number, initially reducing the dimensions to 2688, or one-tenth the original no. of dimensions. After applying Truncated SVD, we inspect how many dimensions are enough to explain 90% of the variance in the dataset.<br> We find that 1061 dimensions are enough, and reduce the BoW model to that many dimensions for the next steps. The cumulative percentage of variance explained as a function of the no. of dimensions is plotted below."
   ]
  },
  {
   "cell_type": "code",
   "execution_count": 58,
   "metadata": {},
   "outputs": [
    {
     "data": {
      "image/png": "[encoded data removed]",
      "text/plain": [
       "<matplotlib.figure.Figure at 0x13586e7ab38>"
      ]
     },
     "metadata": {},
     "output_type": "display_data"
    },
    {
     "name": "stdout",
     "output_type": "stream",
     "text": [
      "No.of components which explain 90% of the variance:  1061\n"
     ]
    }
   ],
   "source": [
    "#import matplotlib as mpl\n",
    "#mpl.style.use('default')\n",
    "plt.figure(1, figsize=(5, 4))\n",
    "plt.clf()\n",
    "plt.plot(cum_explained_var, linewidth=2)\n",
    "plt.axis('tight')\n",
    "plt.xlabel('n_components')\n",
    "plt.ylabel('Cumulative_explained_variance')\n",
    "plt.grid()\n",
    "plt.show()\n",
    "print(\"No.of components which explain 90% of the variance: \", n_comps)"
   ]
  },
  {
   "cell_type": "markdown",
   "metadata": {},
   "source": [
    "## Applying K Nearest Neighbors on the BoW model\n",
    "\n",
    "Below is a function for deciding the optimal value of k by first Training the KNN algorithm on the Train Set, and then noting its performance at predicting the Review Score on the CV Set, for each given value of k. The performance if measured in terms of F1-Score and plotted vs the corresponding value of k."
   ]
  },
  {
   "cell_type": "code",
   "execution_count": 13,
   "metadata": {
    "collapsed": true
   },
   "outputs": [],
   "source": [
    "def KNN(X, y, algo, X_cv, y_cv):\n",
    "    #tscv = TimeSeriesSplit(n_splits=5)\n",
    "    n_neighbors = list(filter(lambda x: x%2 != 0, np.arange(1, 50)))\n",
    "\n",
    "    f1_scores = []\n",
    "    err = []\n",
    "\n",
    "    for k in tqdm(n_neighbors):         \n",
    "        #Training the KNN Classifier on the Training Set and predicting labels on the CV set\n",
    "        knn = KNeighborsClassifier(n_neighbors=k, algorithm=algo)\n",
    "        knn.fit(X, y)\n",
    "        pred = knn.predict(X_cv)\n",
    "        \n",
    "        f1_scores.append(metrics.f1_score(y_pred=pred, y_true=y_cv))\n",
    "        err.append((1 - np.equal(pred, y_cv).sum()/pred.shape[0]) * 100)\n",
    "    \n",
    "    plt.figure(1, figsize=(12, 4))\n",
    "    plt.clf()#; plt.axis('tight')\n",
    "    plt.subplot(121)\n",
    "    plt.plot(n_neighbors, f1_scores, linewidth=2)\n",
    "    plt.xlabel(\"No. of Neighbors(k)\")\n",
    "    plt.ylabel(\"F1 Score on CV\")\n",
    "    plt.xticks([0,5,10,15,20,25])\n",
    "    plt.grid(True)\n",
    "    plt.subplot(122)\n",
    "    plt.plot(n_neighbors, err, linewidth=2)\n",
    "    plt.xlabel(\"No. of Neighbors(k)\")\n",
    "    plt.ylabel(\"Error on CV\")\n",
    "    plt.xticks([0,5,10,15,20,25])\n",
    "    plt.grid(True)\n",
    "    plt.show()"
   ]
  },
  {
   "cell_type": "markdown",
   "metadata": {},
   "source": [
    "## Training and Cross-Validating the KNN approach on the BoW model"
   ]
  },
  {
   "cell_type": "code",
   "execution_count": 15,
   "metadata": {
    "scrolled": true
   },
   "outputs": [
    {
     "name": "stderr",
     "output_type": "stream",
     "text": [
      "100%|██████████| 25/25 [15:57<00:00, 39.09s/it]\n"
     ]
    },
    {
     "data": {
      "image/png": "[encoded data removed]",
      "text/plain": [
       "<Figure size 864x288 with 2 Axes>"
      ]
     },
     "metadata": {},
     "output_type": "display_data"
    }
   ],
   "source": [
    "#print(\"Training KNN Classifier using Brute Force\")\n",
    "KNN(bow_train, y_tr, 'brute', bow_cv, y_cv)"
   ]
  },
  {
   "cell_type": "markdown",
   "metadata": {},
   "source": [
    "### Using Optimal value of k to predict Scores on the Test Set\n",
    "From the plots for F1 Score and Mean error, we can see that 5 seems to be an optimal value for the number of nearest neighbors to be considered while applying the KNN Classification on the Test Set.\n",
    "Hence, we will be running the KNN Classifier with 5 nearest neighbors on the Test Set. We are only using the Brute Force approach here as KD Tree was taking too long to run."
   ]
  },
  {
   "cell_type": "code",
   "execution_count": 33,
   "metadata": {},
   "outputs": [
    {
     "name": "stdout",
     "output_type": "stream",
     "text": [
      "F1 Score on the Test Set : 0.8979269278835551\n",
      "Classification Accuracy on the Test Set: 81.48666666666666\n"
     ]
    }
   ],
   "source": [
    "bow_test = vec.transform(X_test.CleanedText.values)\n",
    "bow_test = tsvd.fit_transform(bow_test)\n",
    "bow_test_std = StandardScaler().fit_transform(bow_test)\n",
    "\n",
    "knn = KNeighborsClassifier(n_neighbors=5, algorithm='brute')\n",
    "knn.fit(X=bow_train_std, y=y_tr)\n",
    "pred = knn.predict(X=bow_test_std)\n",
    "\n",
    "print(\"F1 Score on the Test Set :\", metrics.f1_score(y_pred=pred, y_true=y_test))\n",
    "print(\"Classification Accuracy on the Test Set:\", (np.equal(pred, y_test).sum()/pred.shape[0]) * 100)"
   ]
  },
  {
   "cell_type": "markdown",
   "metadata": {},
   "source": [
    "We get a decent F1 score of ~0.9 and an accuracy of 81.49% on the unseen data, i.e. Test Set. We can say that the running the Classifier on the past reviews has helped us get a decent prediction of the final Review score for future reviews."
   ]
  },
  {
   "cell_type": "markdown",
   "metadata": {},
   "source": [
    "# TF-IDF representation of Reviews \n",
    "We are again generating a TF-IDF representation of the only the first 100K reviews in the dataset sorted by time, and running the K-Nearest Neighbors Classification on it."
   ]
  },
  {
   "cell_type": "code",
   "execution_count": 17,
   "metadata": {
    "scrolled": false
   },
   "outputs": [
    {
     "name": "stdout",
     "output_type": "stream",
     "text": [
      "The number of unique words(only unigrams): in the TF-IDF model:  26889\n"
     ]
    }
   ],
   "source": [
    "tf_idf_vec = TfidfVectorizer(ngram_range=(1,1))\n",
    "#tf_idf_vec.fit(X_tr.CleanedText.values)\n",
    "tfidf_train = tf_idf_vec.fit_transform(X_tr.CleanedText.values)\n",
    "print(\"The number of unique words(only unigrams): in the TF-IDF model: \", tfidf_train.get_shape()[1])\n",
    "tfidf_cv = tf_idf_vec.transform(X_cv.CleanedText.values)\n",
    "\n",
    "#Using Truncated SVD to find Optimal number of dimensions to reduce the BoW models to\n",
    "#Initially, it is run with one-tenth the number of actual dimensions of the Bow Train model\n",
    "tsvd = TruncatedSVD(n_components= tfidf_train.get_shape()[1]//10)\n",
    "tfidf_train_tsvd = tsvd.fit_transform(tfidf_train)\n",
    "\n",
    "#Here, the percentage of variance explained by each component is calculated\n",
    "#Then, no. of components which explain >90% variance is taken as required no. of components\n",
    "per_explained_variances = np.var(tfidf_train_tsvd, axis=0) * 100.0/np.var(tfidf_train_tsvd, axis=0).sum()\n",
    "cum_explained_var = np.cumsum(per_explained_variances)\n",
    "n_comps = np.where(cum_explained_var>=90.0)[0][0] + 1\n",
    "\n",
    "#Reducing the BoW models to the only the required no. of components\n",
    "tsvd = TruncatedSVD(n_components = n_comps)\n",
    "tfidf_train = tsvd.fit_transform(tfidf_train)\n",
    "tfidf_cv = tsvd.transform(tfidf_cv)\n",
    "\n",
    "#Standardizing the Train and CV sets\n",
    "tfidf_train = StandardScaler().fit_transform(tfidf_train)\n",
    "tfidf_cv = StandardScaler().fit_transform(tfidf_cv)"
   ]
  },
  {
   "cell_type": "code",
   "execution_count": 18,
   "metadata": {},
   "outputs": [
    {
     "data": {
      "image/png": "[encoded data removed]",
      "text/plain": [
       "<Figure size 432x288 with 1 Axes>"
      ]
     },
     "metadata": {},
     "output_type": "display_data"
    },
    {
     "name": "stdout",
     "output_type": "stream",
     "text": [
      "No.of components which explain 90% of the variance:  1651\n"
     ]
    }
   ],
   "source": [
    "plt.figure(1, figsize=(6, 4))\n",
    "plt.clf()\n",
    "plt.plot(cum_explained_var, linewidth=2)\n",
    "plt.axis('tight')\n",
    "plt.grid()\n",
    "plt.xlabel('n_components')\n",
    "plt.ylabel('Cumulative_explained_variance')\n",
    "plt.show()\n",
    "print(\"No.of components which explain 90% of the variance: \", n_comps)"
   ]
  },
  {
   "cell_type": "markdown",
   "metadata": {},
   "source": [
    "<b>Observation :</b>In case of TF-IDF, it is seen that a higher no. of dimensions(1651) are needed to explain 90% the variance in the Training Set. Hence, Truncated SVD is used to reduce the nearly the dataset from ~27K dimensions to 1651 dimensions for further processing."
   ]
  },
  {
   "cell_type": "markdown",
   "metadata": {},
   "source": [
    "## Applying K Nearest Neighbors on the TF-IDF model"
   ]
  },
  {
   "cell_type": "markdown",
   "metadata": {},
   "source": [
    "### Tuning the Hyperparameters (k) using Cross-Validation"
   ]
  },
  {
   "cell_type": "code",
   "execution_count": 19,
   "metadata": {
    "scrolled": true
   },
   "outputs": [
    {
     "name": "stderr",
     "output_type": "stream",
     "text": [
      "100%|██████████| 25/25 [18:16<00:00, 44.64s/it]\n"
     ]
    },
    {
     "data": {
      "image/png": "[encoded data removed]",
      "text/plain": [
       "<Figure size 864x288 with 2 Axes>"
      ]
     },
     "metadata": {},
     "output_type": "display_data"
    }
   ],
   "source": [
    "KNN(tfidf_train, y_tr, 'brute', tfidf_cv, y_cv)"
   ]
  },
  {
   "cell_type": "markdown",
   "metadata": {},
   "source": [
    "### Using Optimal value of k to predict Scores on the Test Set"
   ]
  },
  {
   "cell_type": "code",
   "execution_count": 18,
   "metadata": {},
   "outputs": [
    {
     "name": "stdout",
     "output_type": "stream",
     "text": [
      "F1 Score on the Test Set : 0.9021444777867232\n",
      "Classification Accuracy on the Test Set: 82.17333333333333\n"
     ]
    }
   ],
   "source": [
    "tfidf_test = tf_idf_vec.transform(X_test.CleanedText.values)\n",
    "tfidf_test = tsvd.fit_transform(tfidf_test)\n",
    "tfidf_test = StandardScaler().fit_transform(tfidf_test)\n",
    "\n",
    "knn = KNeighborsClassifier(n_neighbors=5, algorithm='brute')\n",
    "knn.fit(X=tfidf_train, y=y_tr)\n",
    "pred = knn.predict(X=tfidf_test)\n",
    "\n",
    "print(\"F1 Score on the Test Set :\", metrics.f1_score(y_pred=pred, y_true=y_test))\n",
    "print(\"Classification Accuracy on the Test Set:\", (np.equal(pred, y_test).sum()/pred.shape[0]) * 100)"
   ]
  },
  {
   "cell_type": "markdown",
   "metadata": {},
   "source": [
    "# Word2Vec"
   ]
  },
  {
   "cell_type": "code",
   "execution_count": 21,
   "metadata": {
    "collapsed": true
   },
   "outputs": [],
   "source": [
    "# Using Google News Word2Vectors\n",
    "\n",
    "# in this project we are using a pretrained model by google, a 3.3G file,which will occupy ~9Gb once \n",
    "# loaded into memory, so please do this step only if you have >12G of RAM.\n",
    "# Alternativelly, we can use the provided pickle file wich contains a dict , \n",
    "# and it contains all our corpus words as keys and  model[word] as values.\n",
    "# To use this code-snippet, download \"GoogleNews-vectors-negative300.bin\" \n",
    "# from https://drive.google.com/file/d/0B7XkCwpI5KDYNlNUTTlSS21pQmM/edit\n",
    "\n",
    "is_your_ram_gt_16g=False\n",
    "want_to_read_sub_set_of_google_w2v = True\n",
    "want_to_read_whole_google_w2v = True\n",
    "if not is_your_ram_gt_16g:\n",
    "    if want_to_read_sub_set_of_google_w2v and  os.path.isfile('google_w2v_for_amazon.pkl'):\n",
    "        with open('google_w2v_for_amazon.pkl', 'rb') as f:\n",
    "            # model is dict object, you can directly access any word vector using model[word]\n",
    "            model = pickle.load(f)\n",
    "else:\n",
    "    if want_to_read_whole_google_w2v and os.path.isfile('GoogleNews-vectors-negative300.bin'):\n",
    "        model = KeyedVectors.load_word2vec_format('GoogleNews-vectors-negative300.bin', binary=True)"
   ]
  },
  {
   "cell_type": "code",
   "execution_count": 22,
   "metadata": {
    "collapsed": true
   },
   "outputs": [],
   "source": [
    "i=0\n",
    "list_of_sent=[]\n",
    "#Sort the entire preprocessed dataset by Time\n",
    "final.Time = pd.to_datetime(final.Time, unit='s')\n",
    "final.sort_values(by='Time', inplace=True)\n",
    "\n",
    "for sent in final[:100000]['CleanedText'].values:\n",
    "    list_of_sent.append(sent.split())"
   ]
  },
  {
   "cell_type": "code",
   "execution_count": 23,
   "metadata": {},
   "outputs": [
    {
     "name": "stdout",
     "output_type": "stream",
     "text": [
      "witti littl book make son laugh loud recit car drive along alway sing refrain hes learn whale india droop love new word book introduc silli classic book will bet son still abl recit memori colleg\n",
      "*****************************************************************\n",
      "['witti', 'littl', 'book', 'make', 'son', 'laugh', 'loud', 'recit', 'car', 'drive', 'along', 'alway', 'sing', 'refrain', 'hes', 'learn', 'whale', 'india', 'droop', 'love', 'new', 'word', 'book', 'introduc', 'silli', 'classic', 'book', 'will', 'bet', 'son', 'still', 'abl', 'recit', 'memori', 'colleg']\n"
     ]
    }
   ],
   "source": [
    "print(final['CleanedText'].values[0])\n",
    "print(\"*****************************************************************\")\n",
    "print(list_of_sent[0])"
   ]
  },
  {
   "cell_type": "code",
   "execution_count": 24,
   "metadata": {
    "collapsed": true
   },
   "outputs": [],
   "source": [
    "# min_count = 5 considers only words that occured atleast 5 times\n",
    "w2v_model=Word2Vec(list_of_sent,min_count=5,size=50, workers=4)"
   ]
  },
  {
   "cell_type": "code",
   "execution_count": 25,
   "metadata": {
    "scrolled": true
   },
   "outputs": [
    {
     "name": "stdout",
     "output_type": "stream",
     "text": [
      "number of words that occured minimum 5 times  12508\n",
      "sample words  ['witti', 'littl', 'book', 'make', 'son', 'laugh', 'loud', 'car', 'drive', 'along', 'alway', 'sing', 'refrain', 'hes', 'learn', 'whale', 'india', 'droop', 'love', 'new', 'word', 'introduc', 'silli', 'classic', 'will', 'bet', 'still', 'abl', 'memori', 'colleg', 'rememb', 'see', 'show', 'air', 'televis', 'year', 'ago', 'child', 'sister', 'later', 'bought', 'day', 'thirti', 'someth', 'use', 'seri', 'song', 'student', 'teach', 'preschool']\n"
     ]
    },
    {
     "data": {
      "text/plain": [
       "[('delici', 0.8095229864120483),\n",
       " ('yummi', 0.7529089450836182),\n",
       " ('nice', 0.6556087136268616),\n",
       " ('satisfi', 0.6474446058273315),\n",
       " ('hearti', 0.6348320841789246),\n",
       " ('tastey', 0.6290578246116638),\n",
       " ('good', 0.6071966886520386),\n",
       " ('dens', 0.6053351163864136),\n",
       " ('substanti', 0.5787638425827026),\n",
       " ('sweet', 0.5709654092788696)]"
      ]
     },
     "execution_count": 25,
     "metadata": {},
     "output_type": "execute_result"
    }
   ],
   "source": [
    "w2v_words = list(w2v_model.wv.vocab)\n",
    "print(\"number of words that occured minimum 5 times \",len(w2v_words))\n",
    "print(\"sample words \", w2v_words[0:50])\n",
    "w2v_model.wv.most_similar('tasti')"
   ]
  },
  {
   "cell_type": "markdown",
   "metadata": {},
   "source": [
    "# Avg W2V\n",
    "Below, we are generating an Average Word2Vec representation on the first 100K reviews of the dataset, to generate a 50-dimensional vector for each review sentence."
   ]
  },
  {
   "cell_type": "code",
   "execution_count": 62,
   "metadata": {},
   "outputs": [
    {
     "name": "stderr",
     "output_type": "stream",
     "text": [
      "100%|█████████████████████████████████████████████████████████████████████████| 100000/100000 [02:47<00:00, 597.37it/s]\n"
     ]
    },
    {
     "name": "stdout",
     "output_type": "stream",
     "text": [
      "100000\n",
      "100000\n",
      "50\n"
     ]
    }
   ],
   "source": [
    "# average Word2Vec\n",
    "# compute average word2vec for each review.\n",
    "sent_vectors = []; # the avg-w2v for each sentence/review is stored in this list\n",
    "for sent in tqdm(list_of_sent): # for each review/sentence\n",
    "    sent_vec = np.zeros(50) # as word vectors are of zero length\n",
    "    cnt_words =0; # num of words with a valid vector in the sentence/review\n",
    "    for word in sent: # for each word in a review/sentence\n",
    "        if word in w2v_words:\n",
    "            vec = w2v_model.wv[word]\n",
    "            sent_vec += vec\n",
    "            cnt_words += 1\n",
    "    if cnt_words != 0:\n",
    "        sent_vec /= cnt_words\n",
    "    sent_vectors.append(sent_vec)\n",
    "print(len(list_of_sent))\n",
    "print(len(sent_vectors))\n",
    "print(len(sent_vectors[0]))"
   ]
  },
  {
   "cell_type": "markdown",
   "metadata": {},
   "source": [
    "## Applying KNN on Avg W2V"
   ]
  },
  {
   "cell_type": "markdown",
   "metadata": {},
   "source": [
    "### Slicing the dataset to create Train, CV and Test sets"
   ]
  },
  {
   "cell_type": "code",
   "execution_count": 22,
   "metadata": {},
   "outputs": [
    {
     "name": "stdout",
     "output_type": "stream",
     "text": [
      "No. of samples in Training Set : 49000\n",
      "No. of samples in CV Set : 21000\n",
      "No. of samples in Test Set : 30000\n"
     ]
    }
   ],
   "source": [
    "# Since the dataset is sorted by time, we are taking 1st 70% of the datapoints as the training set, and the rest as Test Set\n",
    "tr_index = (int)(0.7 * len(sent_vectors))\n",
    "\n",
    "X_tr = sent_vectors[:tr_index]\n",
    "y_tr = final.iloc[:tr_index]['Score']\n",
    "X_test = sent_vectors[tr_index:]\n",
    "y_test = final.iloc[tr_index:100000]['Score']\n",
    "\n",
    "# The training set is then again split into Train and CV sets,, with the latter 30% being the CV set. \n",
    "tr_index = (int)(0.7 * tr_index)\n",
    "X_cv = X_tr[tr_index:]\n",
    "y_cv = y_tr[tr_index:]\n",
    "X_tr = X_tr[:tr_index]\n",
    "y_tr = y_tr[:tr_index]\n",
    "print(\"No. of samples in Training Set :\", len(y_tr))\n",
    "print(\"No. of samples in CV Set :\", len(y_cv))\n",
    "print(\"No. of samples in Test Set :\", len(y_test))\n",
    "\n",
    "# Standardizing the Datasets\n",
    "X_tr = StandardScaler().fit_transform(X_tr)\n",
    "X_cv = StandardScaler().fit_transform(X_cv)\n",
    "X_test = StandardScaler().fit_transform(X_test)"
   ]
  },
  {
   "cell_type": "markdown",
   "metadata": {},
   "source": [
    "### Tuning the Hyperparameters (k) using Cross-Validation"
   ]
  },
  {
   "cell_type": "code",
   "execution_count": 23,
   "metadata": {
    "scrolled": true
   },
   "outputs": [
    {
     "name": "stderr",
     "output_type": "stream",
     "text": [
      "100%|██████████| 25/25 [12:05<00:00, 28.95s/it]\n"
     ]
    },
    {
     "data": {
      "image/png": "[encoded data removed]",
      "text/plain": [
       "<Figure size 864x288 with 2 Axes>"
      ]
     },
     "metadata": {},
     "output_type": "display_data"
    }
   ],
   "source": [
    "KNN(X_tr, y_tr, 'brute', X_cv, y_cv)"
   ]
  },
  {
   "cell_type": "markdown",
   "metadata": {},
   "source": [
    "### Using Optimal value of k to predict Scores on the Test Set"
   ]
  },
  {
   "cell_type": "code",
   "execution_count": 24,
   "metadata": {},
   "outputs": [
    {
     "name": "stdout",
     "output_type": "stream",
     "text": [
      "F1 Score on the Test Set : 0.935186378278877\n",
      "Classification Accuracy on the Test Set: 88.26333333333334\n"
     ]
    }
   ],
   "source": [
    "knn = KNeighborsClassifier(n_neighbors=8, algorithm='brute')\n",
    "knn.fit(X=X_tr, y=y_tr)\n",
    "pred = knn.predict(X=X_test)\n",
    "\n",
    "print(\"F1 Score on the Test Set :\", metrics.f1_score(y_pred=pred, y_true=y_test))\n",
    "print(\"Classification Accuracy on the Test Set:\", (np.equal(pred, y_test).sum()/pred.shape[0]) * 100)"
   ]
  },
  {
   "cell_type": "code",
   "execution_count": 26,
   "metadata": {},
   "outputs": [
    {
     "name": "stdout",
     "output_type": "stream",
     "text": [
      "F1 Score on the Test Set : 0.935186378278877\n",
      "Classification Accuracy on the Test Set: 88.26333333333334\n"
     ]
    }
   ],
   "source": [
    "knn = KNeighborsClassifier(n_neighbors=8, algorithm='kd_tree')\n",
    "knn.fit(X=X_tr, y=y_tr)\n",
    "pred = knn.predict(X=X_test)\n",
    "\n",
    "print(\"F1 Score on the Test Set :\", metrics.f1_score(y_pred=pred, y_true=y_test))\n",
    "print(\"Classification Accuracy on the Test Set:\", (np.equal(pred, y_test).sum()/pred.shape[0]) * 100)"
   ]
  },
  {
   "cell_type": "markdown",
   "metadata": {},
   "source": [
    "# TF-IDF Weighted W2V\n",
    "Below, we are generating a TF-IDF Weighted Word2Vec representation on the first 100K reviews of the dataset, using the Word to Vec model generated earlier, and TF-IDF values of each word to generate a 50-dimensional vector for each review sentence."
   ]
  },
  {
   "cell_type": "code",
   "execution_count": 27,
   "metadata": {},
   "outputs": [
    {
     "name": "stderr",
     "output_type": "stream",
     "text": [
      "100%|█████████████████████████████████████████████████████████████████████████| 100000/100000 [02:49<00:00, 591.06it/s]\n"
     ]
    }
   ],
   "source": [
    "model = TfidfVectorizer()\n",
    "tf_idf_matrix = model.fit_transform(final['CleanedText'].values)\n",
    "# we are converting a dictionary with word as a key, and the idf as a value\n",
    "dictionary = dict(zip(model.get_feature_names(), list(model.idf_)))\n",
    "\n",
    "# TF-IDF weighted Word2Vec\n",
    "tfidf_feat = model.get_feature_names() # tfidf words/col-names\n",
    "# final_tf_idf is the sparse matrix with row= sentence, col=word and cell_val = tfidf\n",
    "\n",
    "tfidf_sent_vectors = []; # the tfidf-w2v for each sentence/review is stored in this list\n",
    "row=0;\n",
    "for sent in tqdm(list_of_sent): # for each review/sentence \n",
    "    sent_vec = np.zeros(50) # as word vectors are of zero length\n",
    "    weight_sum =0; # num of words with a valid vector in the sentence/review\n",
    "    for word in sent: # for each word in a review/sentence\n",
    "        if word in w2v_words:\n",
    "            vec = w2v_model.wv[word]\n",
    "            # tf_idf = tf_idf_matrix[row, tfidf_feat.index(word)]\n",
    "            # to reduce the computation we are \n",
    "            # dictionary[word] = idf value of word in whole corpus\n",
    "            # sent.count(word) = tf valeus of word in this review\n",
    "            tf_idf = dictionary[word]*(sent.count(word)/len(sent))\n",
    "            sent_vec += (vec * tf_idf)\n",
    "            weight_sum += tf_idf\n",
    "    if weight_sum != 0:\n",
    "        sent_vec /= weight_sum\n",
    "    tfidf_sent_vectors.append(sent_vec)\n",
    "    row += 1"
   ]
  },
  {
   "cell_type": "markdown",
   "metadata": {},
   "source": [
    "### Slicing the dataset to create Train, CV and Test sets"
   ]
  },
  {
   "cell_type": "code",
   "execution_count": 28,
   "metadata": {},
   "outputs": [
    {
     "name": "stdout",
     "output_type": "stream",
     "text": [
      "No. of samples in Training Set : 49000\n",
      "No. of samples in CV Set : 21000\n",
      "No. of samples in Test Set : 30000\n"
     ]
    }
   ],
   "source": [
    "# Since the dataset is sorted by time, we are taking 1st 70% of the datapoints as the training set, and the rest as Test Set\n",
    "tr_index = (int)(0.7 * len(tfidf_sent_vectors))\n",
    "\n",
    "X_tr = tfidf_sent_vectors[:tr_index]\n",
    "y_tr = final.iloc[:tr_index]['Score']\n",
    "X_test = tfidf_sent_vectors[tr_index:]\n",
    "y_test = final.iloc[tr_index:100000]['Score']\n",
    "\n",
    "# The training set is then again split into Train and CV sets,, with the latter 30% being the CV set. \n",
    "tr_index = (int)(0.7 * tr_index)\n",
    "X_cv = X_tr[tr_index:]\n",
    "y_cv = y_tr[tr_index:]\n",
    "X_tr = X_tr[:tr_index]\n",
    "y_tr = y_tr[:tr_index]\n",
    "print(\"No. of samples in Training Set :\", len(y_tr))\n",
    "print(\"No. of samples in CV Set :\", len(y_cv))\n",
    "print(\"No. of samples in Test Set :\", len(y_test))\n",
    "\n",
    "# Standardizing the Datasets\n",
    "X_tr = StandardScaler().fit_transform(X_tr)\n",
    "X_cv = StandardScaler().fit_transform(X_cv)\n",
    "X_test = StandardScaler().fit_transform(X_test)"
   ]
  },
  {
   "cell_type": "markdown",
   "metadata": {},
   "source": [
    "### Tuning the Hyperparameters (k) using Cross-Validation"
   ]
  },
  {
   "cell_type": "code",
   "execution_count": 29,
   "metadata": {},
   "outputs": [
    {
     "name": "stderr",
     "output_type": "stream",
     "text": [
      "100%|███████████████████████████████████████████████████████████████████████████████| 25/25 [1:06:56<00:00, 164.71s/it]\n"
     ]
    },
    {
     "data": {
      "image/png": "[encoded data removed]",
      "text/plain": [
       "<matplotlib.figure.Figure at 0x1357dc39438>"
      ]
     },
     "metadata": {},
     "output_type": "display_data"
    }
   ],
   "source": [
    "KNN(X_tr, y_tr, 'kd_tree', X_cv, y_cv)"
   ]
  },
  {
   "cell_type": "markdown",
   "metadata": {},
   "source": [
    "### Using Optimal value of k to predict Scores on the Test Set"
   ]
  },
  {
   "cell_type": "code",
   "execution_count": 33,
   "metadata": {},
   "outputs": [
    {
     "name": "stdout",
     "output_type": "stream",
     "text": [
      "F1 Score on the Test Set : 0.932005669223\n",
      "Classification Accuracy on the Test Set: 87.5266666667\n"
     ]
    }
   ],
   "source": [
    "knn = KNeighborsClassifier(n_neighbors=11, algorithm='brute')\n",
    "knn.fit(X=X_tr, y=y_tr)\n",
    "pred = knn.predict(X=X_test)\n",
    "\n",
    "print(\"F1 Score on the Test Set :\", metrics.f1_score(y_pred=pred, y_true=y_test))\n",
    "print(\"Classification Accuracy on the Test Set:\", (np.equal(pred, y_test).sum()/pred.shape[0]) * 100)"
   ]
  },
  {
   "cell_type": "code",
   "execution_count": 31,
   "metadata": {},
   "outputs": [
    {
     "name": "stdout",
     "output_type": "stream",
     "text": [
      "F1 Score on the Test Set : 0.932005669223\n",
      "Classification Accuracy on the Test Set: 87.5266666667\n"
     ]
    }
   ],
   "source": [
    "knn = KNeighborsClassifier(n_neighbors=11, algorithm='kd_tree')\n",
    "knn.fit(X=X_tr, y=y_tr)\n",
    "pred = knn.predict(X=X_test)\n",
    "\n",
    "print(\"F1 Score on the Test Set :\", metrics.f1_score(y_pred=pred, y_true=y_test))\n",
    "print(\"Classification Accuracy on the Test Set:\", (np.equal(pred, y_test).sum()/pred.shape[0]) * 100)"
   ]
  },
  {
   "cell_type": "markdown",
   "metadata": {
    "collapsed": true
   },
   "source": [
    "The Average and TF-IDF weighted Word2Vec models seem to give a better performance with the KNN Classifier for prediction of Review Scores, when applied to unseen Test data which is chronologically later than the Training Set."
   ]
  },
  {
   "cell_type": "markdown",
   "metadata": {},
   "source": [
    "# Conclusion\n",
    "The performance of the different Word Vectorization techniques with a KNN model has been summarised in the table below:"
   ]
  },
  {
   "cell_type": "code",
   "execution_count": 3,
   "metadata": {
    "ExecuteTime": {
     "end_time": "2020-05-27T14:46:17.787900Z",
     "start_time": "2020-05-27T14:46:17.781918Z"
    }
   },
   "outputs": [
    {
     "name": "stdout",
     "output_type": "stream",
     "text": [
      "+------------+-------+-----------------------------------------+---------------+-----------------+\n",
      "| Vectorizer | Model | Hyperparameter Used(Nearest neighbours) | Test F1-Score | Test Accuracy % |\n",
      "+------------+-------+-----------------------------------------+---------------+-----------------+\n",
      "|    BoW     |  KNN  |                    5                    |     0.8979    |      81.49      |\n",
      "|   TF-IDF   |  KNN  |                    5                    |     0.9021    |      82.17      |\n",
      "|  Avg-W2V   |  KNN  |                    8                    |     0.9352    |      88.26      |\n",
      "| TFIDF-W2V  |  KNN  |                    11                   |     0.9320    |      87.53      |\n",
      "+------------+-------+-----------------------------------------+---------------+-----------------+\n"
     ]
    }
   ],
   "source": [
    "from prettytable import PrettyTable\n",
    "x = PrettyTable()\n",
    "x.field_names = [\"Vectorizer\", \"Model\", \"Hyperparameter Used(Nearest neighbours)\", \"Test F1-Score\", \"Test Accuracy %\"]\n",
    "x.add_row([\"BoW\", \"KNN\", \"5\", \"0.8979\", \"81.49\"])\n",
    "x.add_row([\"TF-IDF\", \"KNN\", \"5\", \"0.9021\", \"82.17\"])\n",
    "x.add_row([\"Avg-W2V\", \"KNN\", \"8\", \"0.9352\", \"88.26\"])\n",
    "x.add_row([\"TFIDF-W2V\", \"KNN\", \"11\", \"0.9320\", \"87.53\"])\n",
    "print(x)"
   ]
  },
  {
   "cell_type": "markdown",
   "metadata": {},
   "source": [
    "**The KNN model with 8 nearest neighbours seems to perform best when used with the Average-Word2Vec vectorized dataset.**"
   ]
  }
 ],
 "metadata": {
  "hide_input": false,
  "kernelspec": {
   "display_name": "Python 3",
   "language": "python",
   "name": "python3"
  },
  "language_info": {
   "codemirror_mode": {
    "name": "ipython",
    "version": 3
   },
   "file_extension": ".py",
   "mimetype": "text/x-python",
   "name": "python",
   "nbconvert_exporter": "python",
   "pygments_lexer": "ipython3",
   "version": "3.6.8"
  },
  "toc": {
   "base_numbering": 1,
   "nav_menu": {},
   "number_sections": true,
   "sideBar": true,
   "skip_h1_title": false,
   "title_cell": "Table of Contents",
   "title_sidebar": "Contents",
   "toc_cell": false,
   "toc_position": {},
   "toc_section_display": true,
   "toc_window_display": true
  }
 },
 "nbformat": 4,
 "nbformat_minor": 2
}
