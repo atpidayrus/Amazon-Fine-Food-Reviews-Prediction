{
 "cells": [
  {
   "cell_type": "markdown",
   "metadata": {
    "colab_type": "text",
    "id": "jNC8HEoBChWf"
   },
   "source": [
    "# Amazon Fine Food Reviews Analysis - Classification using LSTM\n",
    "\n",
    "\n",
    "Data Source: https://www.kaggle.com/snap/amazon-fine-food-reviews <br>\n",
    "\n",
    "EDA: https://nycdatascience.com/blog/student-works/amazon-fine-foods-visualization/\n",
    "\n",
    "\n",
    "The Amazon Fine Food Reviews dataset consists of reviews of fine foods from Amazon.<br>\n",
    "\n",
    "Number of reviews: 568,454<br>\n",
    "Number of users: 256,059<br>\n",
    "Number of products: 74,258<br>\n",
    "Timespan: Oct 1999 - Oct 2012<br>\n",
    "Number of Attributes/Columns in data: 10 \n",
    "\n",
    "Attribute Information:\n",
    "\n",
    "1. Id\n",
    "2. ProductId - unique identifier for the product\n",
    "3. UserId - unqiue identifier for the user\n",
    "4. ProfileName\n",
    "5. HelpfulnessNumerator - number of users who found the review helpful\n",
    "6. HelpfulnessDenominator - number of users who indicated whether they found the review helpful or not\n",
    "7. Score - rating between 1 and 5\n",
    "8. Time - timestamp for the review\n",
    "9. Summary - brief summary of the review\n",
    "10. Text - text of the review\n",
    "\n",
    "\n",
    "#### Objective:\n",
    "Given a review, determine whether the review is positive (rating of 4 or 5) or negative (rating of 1 or 2).\n",
    "\n",
    "<br>\n",
    "[Q] How to determine if a review is positive or negative?<br>\n",
    "<br> \n",
    "[Ans] We could use Score/Rating. A rating of 4 or 5 can be cosnidered as a positive review. A rating of 1 or 2 can be considered as negative one. A review of rating 3 is considered nuetral and such reviews are ignored from our analysis. This is an approximate and proxy way of determining the polarity (positivity/negativity) of a review.\n",
    "\n",
    "\n"
   ]
  },
  {
   "cell_type": "markdown",
   "metadata": {
    "colab_type": "text",
    "id": "8wugXnjtChWj"
   },
   "source": [
    "# [1]. Reading Data"
   ]
  },
  {
   "cell_type": "markdown",
   "metadata": {
    "colab_type": "text",
    "id": "YmKFSMRoChWm"
   },
   "source": [
    "## [1.1] Loading the data\n",
    "\n",
    "The dataset is available in two forms\n",
    "1. .csv file\n",
    "2. SQLite Database\n",
    "\n",
    "In order to load the data, We have used the SQLITE dataset as it is easier to query the data and visualise the data efficiently.\n",
    "<br> \n",
    "\n",
    "Here as we only want to get the global sentiment of the recommendations (positive or negative), we will purposefully ignore all Scores equal to 3. If the score is above 3, then the recommendation wil be set to \"positive\". Otherwise, it will be set to \"negative\"."
   ]
  },
  {
   "cell_type": "code",
   "execution_count": 1,
   "metadata": {
    "ExecuteTime": {
     "end_time": "2019-05-17T13:49:30.243048Z",
     "start_time": "2019-05-17T13:49:26.836118Z"
    },
    "colab": {
     "base_uri": "https://localhost:8080/",
     "height": 0
    },
    "colab_type": "code",
    "id": "Q_rK3P8xChWq",
    "outputId": "5300530e-d5d8-4c3f-b23c-024cbbbb50cf"
   },
   "outputs": [
    {
     "name": "stderr",
     "output_type": "stream",
     "text": [
      "Using TensorFlow backend.\n"
     ]
    }
   ],
   "source": [
    "%matplotlib inline\n",
    "import warnings\n",
    "\n",
    "import sqlite3\n",
    "import pandas as pd\n",
    "import numpy as np\n",
    "import nltk\n",
    "import string\n",
    "import matplotlib.pyplot as plt\n",
    "import seaborn as sns\n",
    "from sklearn.feature_extraction.text import TfidfTransformer\n",
    "from sklearn.feature_extraction.text import TfidfVectorizer\n",
    "\n",
    "from sklearn.feature_extraction.text import CountVectorizer\n",
    "from sklearn.metrics import confusion_matrix\n",
    "from sklearn import metrics\n",
    "from sklearn.metrics import roc_curve, auc\n",
    "from nltk.stem.porter import PorterStemmer\n",
    "\n",
    "# from keras.datasets import imdb\n",
    "from keras.models import Sequential\n",
    "from keras.layers import Dense, Dropout\n",
    "from keras.layers import LSTM, Bidirectional\n",
    "from keras.layers.embeddings import Embedding\n",
    "from keras.preprocessing import sequence\n",
    "# fix random seed for reproducibility\n",
    "np.random.seed(7)\n",
    "\n",
    "import re\n",
    "# Tutorial about Python regular expressions: https://pymotw.com/2/re/\n",
    "import string\n",
    "from nltk.corpus import stopwords\n",
    "from nltk.stem import PorterStemmer\n",
    "from nltk.stem.wordnet import WordNetLemmatizer\n",
    "\n",
    "warnings.filterwarnings(\"ignore\")\n",
    "from gensim.models import Word2Vec\n",
    "from gensim.models import KeyedVectors\n",
    "import pickle\n",
    "\n",
    "from tqdm import tqdm\n",
    "import os"
   ]
  },
  {
   "cell_type": "code",
   "execution_count": 2,
   "metadata": {
    "colab": {
     "base_uri": "https://localhost:8080/",
     "height": 0
    },
    "colab_type": "code",
    "id": "LRs7zcbUr276",
    "outputId": "05373c98-7bfc-41dc-afc6-d17f3d7df616"
   },
   "outputs": [
    {
     "name": "stdout",
     "output_type": "stream",
     "text": [
      "Drive already mounted at /content/drive; to attempt to forcibly remount, call drive.mount(\"/content/drive\", force_remount=True).\n"
     ]
    }
   ],
   "source": [
    "from google.colab import drive\n",
    "drive.mount('/content/drive')"
   ]
  },
  {
   "cell_type": "code",
   "execution_count": 3,
   "metadata": {
    "ExecuteTime": {
     "end_time": "2019-05-17T13:49:37.273912Z",
     "start_time": "2019-05-17T13:49:36.373320Z"
    },
    "colab": {
     "base_uri": "https://localhost:8080/",
     "height": 0
    },
    "colab_type": "code",
    "id": "qGFlKpmUChWz",
    "outputId": "271a0bf0-c2bc-4c8d-87de-f203b08ae1e9"
   },
   "outputs": [
    {
     "name": "stdout",
     "output_type": "stream",
     "text": [
      "Number of data points in our data (50000, 10)\n"
     ]
    },
    {
     "data": {
      "text/html": [
       "<div>\n",
       "<style scoped>\n",
       "    .dataframe tbody tr th:only-of-type {\n",
       "        vertical-align: middle;\n",
       "    }\n",
       "\n",
       "    .dataframe tbody tr th {\n",
       "        vertical-align: top;\n",
       "    }\n",
       "\n",
       "    .dataframe thead th {\n",
       "        text-align: right;\n",
       "    }\n",
       "</style>\n",
       "<table border=\"1\" class=\"dataframe\">\n",
       "  <thead>\n",
       "    <tr style=\"text-align: right;\">\n",
       "      <th></th>\n",
       "      <th>Id</th>\n",
       "      <th>ProductId</th>\n",
       "      <th>UserId</th>\n",
       "      <th>ProfileName</th>\n",
       "      <th>HelpfulnessNumerator</th>\n",
       "      <th>HelpfulnessDenominator</th>\n",
       "      <th>Score</th>\n",
       "      <th>Time</th>\n",
       "      <th>Summary</th>\n",
       "      <th>Text</th>\n",
       "    </tr>\n",
       "  </thead>\n",
       "  <tbody>\n",
       "    <tr>\n",
       "      <th>0</th>\n",
       "      <td>1</td>\n",
       "      <td>B001E4KFG0</td>\n",
       "      <td>A3SGXH7AUHU8GW</td>\n",
       "      <td>delmartian</td>\n",
       "      <td>1</td>\n",
       "      <td>1</td>\n",
       "      <td>1</td>\n",
       "      <td>1303862400</td>\n",
       "      <td>Good Quality Dog Food</td>\n",
       "      <td>I have bought several of the Vitality canned d...</td>\n",
       "    </tr>\n",
       "    <tr>\n",
       "      <th>1</th>\n",
       "      <td>2</td>\n",
       "      <td>B00813GRG4</td>\n",
       "      <td>A1D87F6ZCVE5NK</td>\n",
       "      <td>dll pa</td>\n",
       "      <td>0</td>\n",
       "      <td>0</td>\n",
       "      <td>0</td>\n",
       "      <td>1346976000</td>\n",
       "      <td>Not as Advertised</td>\n",
       "      <td>Product arrived labeled as Jumbo Salted Peanut...</td>\n",
       "    </tr>\n",
       "    <tr>\n",
       "      <th>2</th>\n",
       "      <td>3</td>\n",
       "      <td>B000LQOCH0</td>\n",
       "      <td>ABXLMWJIXXAIN</td>\n",
       "      <td>Natalia Corres \"Natalia Corres\"</td>\n",
       "      <td>1</td>\n",
       "      <td>1</td>\n",
       "      <td>1</td>\n",
       "      <td>1219017600</td>\n",
       "      <td>\"Delight\" says it all</td>\n",
       "      <td>This is a confection that has been around a fe...</td>\n",
       "    </tr>\n",
       "  </tbody>\n",
       "</table>\n",
       "</div>"
      ],
      "text/plain": [
       "   Id  ...                                               Text\n",
       "0   1  ...  I have bought several of the Vitality canned d...\n",
       "1   2  ...  Product arrived labeled as Jumbo Salted Peanut...\n",
       "2   3  ...  This is a confection that has been around a fe...\n",
       "\n",
       "[3 rows x 10 columns]"
      ]
     },
     "execution_count": 3,
     "metadata": {
      "tags": []
     },
     "output_type": "execute_result"
    }
   ],
   "source": [
    "# using SQLite Table to read data.\n",
    "con = sqlite3.connect('drive/My Drive/AmazonFineFoodReviews/database.sqlite') \n",
    "\n",
    "# filtering only positive and negative reviews i.e. \n",
    "# not taking into consideration those reviews with Score=3\n",
    "# SELECT * FROM Reviews WHERE Score != 3 LIMIT 500000, will give top 500000 data points\n",
    "# you can change the number to any other number based on your computing power\n",
    "\n",
    "# filtered_data = pd.read_sql_query(\"\"\" SELECT * FROM Reviews WHERE Score != 3 LIMIT 500000\"\"\", con) \n",
    "# for tsne assignment you can take 5k data points\n",
    "\n",
    "filtered_data = pd.read_sql_query(\"\"\" SELECT * FROM Reviews WHERE Score != 3 LIMIT 50000\"\"\", con) \n",
    "\n",
    "# Give reviews with Score>3 a positive rating(1), and reviews with a score<3 a negative rating(0).\n",
    "def partition(x):\n",
    "    if x < 3:\n",
    "        return 0\n",
    "    return 1\n",
    "\n",
    "#changing reviews with score less than 3 to be positive and vice-versa\n",
    "actualScore = filtered_data['Score']\n",
    "positiveNegative = actualScore.map(partition) \n",
    "filtered_data['Score'] = positiveNegative\n",
    "print(\"Number of data points in our data\", filtered_data.shape)\n",
    "filtered_data.head(3)"
   ]
  },
  {
   "cell_type": "code",
   "execution_count": 0,
   "metadata": {
    "ExecuteTime": {
     "end_time": "2019-05-17T13:49:42.946568Z",
     "start_time": "2019-05-17T13:49:38.434701Z"
    },
    "colab": {},
    "colab_type": "code",
    "id": "Oy6FbbqIChW9"
   },
   "outputs": [],
   "source": [
    "display = pd.read_sql_query(\"\"\"\n",
    "SELECT UserId, ProductId, ProfileName, Time, Score, Text, COUNT(*)\n",
    "FROM Reviews\n",
    "GROUP BY UserId\n",
    "HAVING COUNT(*)>1\n",
    "\"\"\", con)"
   ]
  },
  {
   "cell_type": "code",
   "execution_count": 5,
   "metadata": {
    "ExecuteTime": {
     "end_time": "2019-05-17T13:49:43.589746Z",
     "start_time": "2019-05-17T13:49:43.576780Z"
    },
    "colab": {
     "base_uri": "https://localhost:8080/",
     "height": 0
    },
    "colab_type": "code",
    "id": "VxmpGW-WChXD",
    "outputId": "6e097cd6-754f-471e-f602-2163fd88c28c",
    "scrolled": true
   },
   "outputs": [
    {
     "name": "stdout",
     "output_type": "stream",
     "text": [
      "(80668, 7)\n"
     ]
    },
    {
     "data": {
      "text/html": [
       "<div>\n",
       "<style scoped>\n",
       "    .dataframe tbody tr th:only-of-type {\n",
       "        vertical-align: middle;\n",
       "    }\n",
       "\n",
       "    .dataframe tbody tr th {\n",
       "        vertical-align: top;\n",
       "    }\n",
       "\n",
       "    .dataframe thead th {\n",
       "        text-align: right;\n",
       "    }\n",
       "</style>\n",
       "<table border=\"1\" class=\"dataframe\">\n",
       "  <thead>\n",
       "    <tr style=\"text-align: right;\">\n",
       "      <th></th>\n",
       "      <th>UserId</th>\n",
       "      <th>ProductId</th>\n",
       "      <th>ProfileName</th>\n",
       "      <th>Time</th>\n",
       "      <th>Score</th>\n",
       "      <th>Text</th>\n",
       "      <th>COUNT(*)</th>\n",
       "    </tr>\n",
       "  </thead>\n",
       "  <tbody>\n",
       "    <tr>\n",
       "      <th>0</th>\n",
       "      <td>#oc-R115TNMSPFT9I7</td>\n",
       "      <td>B007Y59HVM</td>\n",
       "      <td>Breyton</td>\n",
       "      <td>1331510400</td>\n",
       "      <td>2</td>\n",
       "      <td>Overall its just OK when considering the price...</td>\n",
       "      <td>2</td>\n",
       "    </tr>\n",
       "    <tr>\n",
       "      <th>1</th>\n",
       "      <td>#oc-R11D9D7SHXIJB9</td>\n",
       "      <td>B005HG9ET0</td>\n",
       "      <td>Louis E. Emory \"hoppy\"</td>\n",
       "      <td>1342396800</td>\n",
       "      <td>5</td>\n",
       "      <td>My wife has recurring extreme muscle spasms, u...</td>\n",
       "      <td>3</td>\n",
       "    </tr>\n",
       "    <tr>\n",
       "      <th>2</th>\n",
       "      <td>#oc-R11DNU2NBKQ23Z</td>\n",
       "      <td>B007Y59HVM</td>\n",
       "      <td>Kim Cieszykowski</td>\n",
       "      <td>1348531200</td>\n",
       "      <td>1</td>\n",
       "      <td>This coffee is horrible and unfortunately not ...</td>\n",
       "      <td>2</td>\n",
       "    </tr>\n",
       "    <tr>\n",
       "      <th>3</th>\n",
       "      <td>#oc-R11O5J5ZVQE25C</td>\n",
       "      <td>B005HG9ET0</td>\n",
       "      <td>Penguin Chick</td>\n",
       "      <td>1346889600</td>\n",
       "      <td>5</td>\n",
       "      <td>This will be the bottle that you grab from the...</td>\n",
       "      <td>3</td>\n",
       "    </tr>\n",
       "    <tr>\n",
       "      <th>4</th>\n",
       "      <td>#oc-R12KPBODL2B5ZD</td>\n",
       "      <td>B007OSBE1U</td>\n",
       "      <td>Christopher P. Presta</td>\n",
       "      <td>1348617600</td>\n",
       "      <td>1</td>\n",
       "      <td>I didnt like this coffee. Instead of telling y...</td>\n",
       "      <td>2</td>\n",
       "    </tr>\n",
       "  </tbody>\n",
       "</table>\n",
       "</div>"
      ],
      "text/plain": [
       "               UserId  ... COUNT(*)\n",
       "0  #oc-R115TNMSPFT9I7  ...        2\n",
       "1  #oc-R11D9D7SHXIJB9  ...        3\n",
       "2  #oc-R11DNU2NBKQ23Z  ...        2\n",
       "3  #oc-R11O5J5ZVQE25C  ...        3\n",
       "4  #oc-R12KPBODL2B5ZD  ...        2\n",
       "\n",
       "[5 rows x 7 columns]"
      ]
     },
     "execution_count": 5,
     "metadata": {
      "tags": []
     },
     "output_type": "execute_result"
    }
   ],
   "source": [
    "print(display.shape)\n",
    "display.head()"
   ]
  },
  {
   "cell_type": "code",
   "execution_count": 6,
   "metadata": {
    "ExecuteTime": {
     "end_time": "2019-05-17T13:49:44.540204Z",
     "start_time": "2019-05-17T13:49:44.524246Z"
    },
    "colab": {
     "base_uri": "https://localhost:8080/",
     "height": 0
    },
    "colab_type": "code",
    "id": "qVYRWe1nChXK",
    "outputId": "8e710ab5-2dbe-403c-a5c2-665947762b12"
   },
   "outputs": [
    {
     "data": {
      "text/html": [
       "<div>\n",
       "<style scoped>\n",
       "    .dataframe tbody tr th:only-of-type {\n",
       "        vertical-align: middle;\n",
       "    }\n",
       "\n",
       "    .dataframe tbody tr th {\n",
       "        vertical-align: top;\n",
       "    }\n",
       "\n",
       "    .dataframe thead th {\n",
       "        text-align: right;\n",
       "    }\n",
       "</style>\n",
       "<table border=\"1\" class=\"dataframe\">\n",
       "  <thead>\n",
       "    <tr style=\"text-align: right;\">\n",
       "      <th></th>\n",
       "      <th>UserId</th>\n",
       "      <th>ProductId</th>\n",
       "      <th>ProfileName</th>\n",
       "      <th>Time</th>\n",
       "      <th>Score</th>\n",
       "      <th>Text</th>\n",
       "      <th>COUNT(*)</th>\n",
       "    </tr>\n",
       "  </thead>\n",
       "  <tbody>\n",
       "    <tr>\n",
       "      <th>80638</th>\n",
       "      <td>AZY10LLTJ71NX</td>\n",
       "      <td>B006P7E5ZI</td>\n",
       "      <td>undertheshrine \"undertheshrine\"</td>\n",
       "      <td>1334707200</td>\n",
       "      <td>5</td>\n",
       "      <td>I was recommended to try green tea extract to ...</td>\n",
       "      <td>5</td>\n",
       "    </tr>\n",
       "  </tbody>\n",
       "</table>\n",
       "</div>"
      ],
      "text/plain": [
       "              UserId  ... COUNT(*)\n",
       "80638  AZY10LLTJ71NX  ...        5\n",
       "\n",
       "[1 rows x 7 columns]"
      ]
     },
     "execution_count": 6,
     "metadata": {
      "tags": []
     },
     "output_type": "execute_result"
    }
   ],
   "source": [
    "display[display['UserId']=='AZY10LLTJ71NX']"
   ]
  },
  {
   "cell_type": "code",
   "execution_count": 7,
   "metadata": {
    "ExecuteTime": {
     "end_time": "2019-05-17T13:49:45.283451Z",
     "start_time": "2019-05-17T13:49:45.276471Z"
    },
    "colab": {
     "base_uri": "https://localhost:8080/",
     "height": 0
    },
    "colab_type": "code",
    "id": "bk3oC9YoChXQ",
    "outputId": "0566cea0-5f4f-4363-8dad-542759a70b94"
   },
   "outputs": [
    {
     "data": {
      "text/plain": [
       "393063"
      ]
     },
     "execution_count": 7,
     "metadata": {
      "tags": []
     },
     "output_type": "execute_result"
    }
   ],
   "source": [
    "display['COUNT(*)'].sum()"
   ]
  },
  {
   "cell_type": "markdown",
   "metadata": {
    "colab_type": "text",
    "id": "tUdW-oABChXZ"
   },
   "source": [
    "#  [2] Exploratory Data Analysis"
   ]
  },
  {
   "cell_type": "markdown",
   "metadata": {
    "colab_type": "text",
    "id": "1lWaQ1eFChXb"
   },
   "source": [
    "## [2.1] Data Cleaning: Deduplication\n",
    "\n",
    "It is observed (as shown in the table below) that the reviews data had many duplicate entries. Hence it was necessary to remove duplicates in order to get unbiased results for the analysis of the data.  Following is an example:"
   ]
  },
  {
   "cell_type": "code",
   "execution_count": 8,
   "metadata": {
    "ExecuteTime": {
     "end_time": "2019-05-17T13:50:00.052311Z",
     "start_time": "2019-05-17T13:49:59.090883Z"
    },
    "colab": {
     "base_uri": "https://localhost:8080/",
     "height": 0
    },
    "colab_type": "code",
    "id": "0scKI9A4ChXd",
    "outputId": "9dd4ddac-4f27-46fb-d0b2-d1b4702ecf09",
    "scrolled": false
   },
   "outputs": [
    {
     "data": {
      "text/html": [
       "<div>\n",
       "<style scoped>\n",
       "    .dataframe tbody tr th:only-of-type {\n",
       "        vertical-align: middle;\n",
       "    }\n",
       "\n",
       "    .dataframe tbody tr th {\n",
       "        vertical-align: top;\n",
       "    }\n",
       "\n",
       "    .dataframe thead th {\n",
       "        text-align: right;\n",
       "    }\n",
       "</style>\n",
       "<table border=\"1\" class=\"dataframe\">\n",
       "  <thead>\n",
       "    <tr style=\"text-align: right;\">\n",
       "      <th></th>\n",
       "      <th>Id</th>\n",
       "      <th>ProductId</th>\n",
       "      <th>UserId</th>\n",
       "      <th>ProfileName</th>\n",
       "      <th>HelpfulnessNumerator</th>\n",
       "      <th>HelpfulnessDenominator</th>\n",
       "      <th>Score</th>\n",
       "      <th>Time</th>\n",
       "      <th>Summary</th>\n",
       "      <th>Text</th>\n",
       "    </tr>\n",
       "  </thead>\n",
       "  <tbody>\n",
       "    <tr>\n",
       "      <th>0</th>\n",
       "      <td>78445</td>\n",
       "      <td>B000HDL1RQ</td>\n",
       "      <td>AR5J8UI46CURR</td>\n",
       "      <td>Geetha Krishnan</td>\n",
       "      <td>2</td>\n",
       "      <td>2</td>\n",
       "      <td>5</td>\n",
       "      <td>1199577600</td>\n",
       "      <td>LOACKER QUADRATINI VANILLA WAFERS</td>\n",
       "      <td>DELICIOUS WAFERS. I FIND THAT EUROPEAN WAFERS ...</td>\n",
       "    </tr>\n",
       "    <tr>\n",
       "      <th>1</th>\n",
       "      <td>138317</td>\n",
       "      <td>B000HDOPYC</td>\n",
       "      <td>AR5J8UI46CURR</td>\n",
       "      <td>Geetha Krishnan</td>\n",
       "      <td>2</td>\n",
       "      <td>2</td>\n",
       "      <td>5</td>\n",
       "      <td>1199577600</td>\n",
       "      <td>LOACKER QUADRATINI VANILLA WAFERS</td>\n",
       "      <td>DELICIOUS WAFERS. I FIND THAT EUROPEAN WAFERS ...</td>\n",
       "    </tr>\n",
       "    <tr>\n",
       "      <th>2</th>\n",
       "      <td>138277</td>\n",
       "      <td>B000HDOPYM</td>\n",
       "      <td>AR5J8UI46CURR</td>\n",
       "      <td>Geetha Krishnan</td>\n",
       "      <td>2</td>\n",
       "      <td>2</td>\n",
       "      <td>5</td>\n",
       "      <td>1199577600</td>\n",
       "      <td>LOACKER QUADRATINI VANILLA WAFERS</td>\n",
       "      <td>DELICIOUS WAFERS. I FIND THAT EUROPEAN WAFERS ...</td>\n",
       "    </tr>\n",
       "    <tr>\n",
       "      <th>3</th>\n",
       "      <td>73791</td>\n",
       "      <td>B000HDOPZG</td>\n",
       "      <td>AR5J8UI46CURR</td>\n",
       "      <td>Geetha Krishnan</td>\n",
       "      <td>2</td>\n",
       "      <td>2</td>\n",
       "      <td>5</td>\n",
       "      <td>1199577600</td>\n",
       "      <td>LOACKER QUADRATINI VANILLA WAFERS</td>\n",
       "      <td>DELICIOUS WAFERS. I FIND THAT EUROPEAN WAFERS ...</td>\n",
       "    </tr>\n",
       "    <tr>\n",
       "      <th>4</th>\n",
       "      <td>155049</td>\n",
       "      <td>B000PAQ75C</td>\n",
       "      <td>AR5J8UI46CURR</td>\n",
       "      <td>Geetha Krishnan</td>\n",
       "      <td>2</td>\n",
       "      <td>2</td>\n",
       "      <td>5</td>\n",
       "      <td>1199577600</td>\n",
       "      <td>LOACKER QUADRATINI VANILLA WAFERS</td>\n",
       "      <td>DELICIOUS WAFERS. I FIND THAT EUROPEAN WAFERS ...</td>\n",
       "    </tr>\n",
       "  </tbody>\n",
       "</table>\n",
       "</div>"
      ],
      "text/plain": [
       "       Id  ...                                               Text\n",
       "0   78445  ...  DELICIOUS WAFERS. I FIND THAT EUROPEAN WAFERS ...\n",
       "1  138317  ...  DELICIOUS WAFERS. I FIND THAT EUROPEAN WAFERS ...\n",
       "2  138277  ...  DELICIOUS WAFERS. I FIND THAT EUROPEAN WAFERS ...\n",
       "3   73791  ...  DELICIOUS WAFERS. I FIND THAT EUROPEAN WAFERS ...\n",
       "4  155049  ...  DELICIOUS WAFERS. I FIND THAT EUROPEAN WAFERS ...\n",
       "\n",
       "[5 rows x 10 columns]"
      ]
     },
     "execution_count": 8,
     "metadata": {
      "tags": []
     },
     "output_type": "execute_result"
    }
   ],
   "source": [
    "display= pd.read_sql_query(\"\"\"\n",
    "SELECT *\n",
    "FROM Reviews\n",
    "WHERE Score != 3 AND UserId=\"AR5J8UI46CURR\"\n",
    "ORDER BY ProductID\n",
    "\"\"\", con)\n",
    "display.head()"
   ]
  },
  {
   "cell_type": "markdown",
   "metadata": {
    "colab_type": "text",
    "id": "ORBstW7kChXk"
   },
   "source": [
    "As it can be seen above that same user has multiple reviews with same values for HelpfulnessNumerator, HelpfulnessDenominator, Score, Time, Summary and Text and on doing analysis it was found that <br>\n",
    "<br> \n",
    "ProductId=B000HDOPZG was Loacker Quadratini Vanilla Wafer Cookies, 8.82-Ounce Packages (Pack of 8)<br>\n",
    "<br> \n",
    "ProductId=B000HDL1RQ was Loacker Quadratini Lemon Wafer Cookies, 8.82-Ounce Packages (Pack of 8) and so on<br>\n",
    "\n",
    "It was inferred after analysis that reviews with same parameters other than ProductId belonged to the same product just having different flavour or quantity. Hence in order to reduce redundancy it was decided to eliminate the rows having same parameters.<br>\n",
    "\n",
    "The method used for the same was that we first sort the data according to ProductId and then just keep the first similar product review and delelte the others. for eg. in the above just the review for ProductId=B000HDL1RQ remains. This method ensures that there is only one representative for each product and deduplication without sorting would lead to possibility of different representatives still existing for the same product."
   ]
  },
  {
   "cell_type": "code",
   "execution_count": 0,
   "metadata": {
    "ExecuteTime": {
     "end_time": "2019-05-17T13:50:02.056159Z",
     "start_time": "2019-05-17T13:50:01.956301Z"
    },
    "colab": {},
    "colab_type": "code",
    "id": "QjqRsNlrChXn"
   },
   "outputs": [],
   "source": [
    "#Sorting data according to ProductId in ascending order\n",
    "sorted_data=filtered_data.sort_values('ProductId', axis=0, ascending=True, inplace=False, kind='quicksort', na_position='last')"
   ]
  },
  {
   "cell_type": "code",
   "execution_count": 10,
   "metadata": {
    "ExecuteTime": {
     "end_time": "2019-05-17T13:50:02.947682Z",
     "start_time": "2019-05-17T13:50:02.723250Z"
    },
    "colab": {
     "base_uri": "https://localhost:8080/",
     "height": 0
    },
    "colab_type": "code",
    "id": "5f7tJRTNChXr",
    "outputId": "f074967e-efa0-493b-85ee-17ca8c9ac604"
   },
   "outputs": [
    {
     "data": {
      "text/plain": [
       "(46072, 10)"
      ]
     },
     "execution_count": 10,
     "metadata": {
      "tags": []
     },
     "output_type": "execute_result"
    }
   ],
   "source": [
    "#Deduplication of entries\n",
    "final=sorted_data.drop_duplicates(subset={\"UserId\",\"ProfileName\",\"Time\",\"Text\"}, keep='first', inplace=False)\n",
    "final.shape"
   ]
  },
  {
   "cell_type": "code",
   "execution_count": 11,
   "metadata": {
    "ExecuteTime": {
     "end_time": "2019-05-17T13:50:03.468439Z",
     "start_time": "2019-05-17T13:50:03.462459Z"
    },
    "colab": {
     "base_uri": "https://localhost:8080/",
     "height": 0
    },
    "colab_type": "code",
    "id": "OkMII7G4ChXx",
    "outputId": "8fa20522-1e6b-4207-c556-260202a2d3d6"
   },
   "outputs": [
    {
     "data": {
      "text/plain": [
       "92.144"
      ]
     },
     "execution_count": 11,
     "metadata": {
      "tags": []
     },
     "output_type": "execute_result"
    }
   ],
   "source": [
    "#Checking to see how much % of data still remains\n",
    "(final['Id'].size*1.0)/(filtered_data['Id'].size*1.0)*100"
   ]
  },
  {
   "cell_type": "markdown",
   "metadata": {
    "colab_type": "text",
    "id": "GqWw3R5rChX6"
   },
   "source": [
    "<b>Observation:-</b> It was also seen that in two rows given below the value of HelpfulnessNumerator is greater than HelpfulnessDenominator which is not practically possible hence these two rows too are removed from calcualtions"
   ]
  },
  {
   "cell_type": "code",
   "execution_count": 12,
   "metadata": {
    "ExecuteTime": {
     "end_time": "2019-05-17T13:50:05.036508Z",
     "start_time": "2019-05-17T13:50:05.016561Z"
    },
    "colab": {
     "base_uri": "https://localhost:8080/",
     "height": 0
    },
    "colab_type": "code",
    "id": "D04AzcxlChX-",
    "outputId": "8367e6ab-b031-4500-d61a-8b9063a615dc"
   },
   "outputs": [
    {
     "data": {
      "text/html": [
       "<div>\n",
       "<style scoped>\n",
       "    .dataframe tbody tr th:only-of-type {\n",
       "        vertical-align: middle;\n",
       "    }\n",
       "\n",
       "    .dataframe tbody tr th {\n",
       "        vertical-align: top;\n",
       "    }\n",
       "\n",
       "    .dataframe thead th {\n",
       "        text-align: right;\n",
       "    }\n",
       "</style>\n",
       "<table border=\"1\" class=\"dataframe\">\n",
       "  <thead>\n",
       "    <tr style=\"text-align: right;\">\n",
       "      <th></th>\n",
       "      <th>Id</th>\n",
       "      <th>ProductId</th>\n",
       "      <th>UserId</th>\n",
       "      <th>ProfileName</th>\n",
       "      <th>HelpfulnessNumerator</th>\n",
       "      <th>HelpfulnessDenominator</th>\n",
       "      <th>Score</th>\n",
       "      <th>Time</th>\n",
       "      <th>Summary</th>\n",
       "      <th>Text</th>\n",
       "    </tr>\n",
       "  </thead>\n",
       "  <tbody>\n",
       "    <tr>\n",
       "      <th>0</th>\n",
       "      <td>64422</td>\n",
       "      <td>B000MIDROQ</td>\n",
       "      <td>A161DK06JJMCYF</td>\n",
       "      <td>J. E. Stephens \"Jeanne\"</td>\n",
       "      <td>3</td>\n",
       "      <td>1</td>\n",
       "      <td>5</td>\n",
       "      <td>1224892800</td>\n",
       "      <td>Bought This for My Son at College</td>\n",
       "      <td>My son loves spaghetti so I didn't hesitate or...</td>\n",
       "    </tr>\n",
       "    <tr>\n",
       "      <th>1</th>\n",
       "      <td>44737</td>\n",
       "      <td>B001EQ55RW</td>\n",
       "      <td>A2V0I904FH7ABY</td>\n",
       "      <td>Ram</td>\n",
       "      <td>3</td>\n",
       "      <td>2</td>\n",
       "      <td>4</td>\n",
       "      <td>1212883200</td>\n",
       "      <td>Pure cocoa taste with crunchy almonds inside</td>\n",
       "      <td>It was almost a 'love at first bite' - the per...</td>\n",
       "    </tr>\n",
       "  </tbody>\n",
       "</table>\n",
       "</div>"
      ],
      "text/plain": [
       "      Id  ...                                               Text\n",
       "0  64422  ...  My son loves spaghetti so I didn't hesitate or...\n",
       "1  44737  ...  It was almost a 'love at first bite' - the per...\n",
       "\n",
       "[2 rows x 10 columns]"
      ]
     },
     "execution_count": 12,
     "metadata": {
      "tags": []
     },
     "output_type": "execute_result"
    }
   ],
   "source": [
    "display= pd.read_sql_query(\"\"\"\n",
    "SELECT *\n",
    "FROM Reviews\n",
    "WHERE Score != 3 AND Id=44737 OR Id=64422\n",
    "ORDER BY ProductID\n",
    "\"\"\", con)\n",
    "\n",
    "display.head()"
   ]
  },
  {
   "cell_type": "code",
   "execution_count": 0,
   "metadata": {
    "ExecuteTime": {
     "end_time": "2019-05-17T13:50:06.130118Z",
     "start_time": "2019-05-17T13:50:06.099200Z"
    },
    "colab": {},
    "colab_type": "code",
    "id": "jgXX4VgCChYG"
   },
   "outputs": [],
   "source": [
    "final=final[final.HelpfulnessNumerator<=final.HelpfulnessDenominator]"
   ]
  },
  {
   "cell_type": "code",
   "execution_count": 14,
   "metadata": {
    "ExecuteTime": {
     "end_time": "2019-05-17T13:50:06.988268Z",
     "start_time": "2019-05-17T13:50:06.978265Z"
    },
    "colab": {
     "base_uri": "https://localhost:8080/",
     "height": 0
    },
    "colab_type": "code",
    "id": "ItoTBxEAChYN",
    "outputId": "f16a8aee-0649-4763-c689-827c7be395bb"
   },
   "outputs": [
    {
     "name": "stdout",
     "output_type": "stream",
     "text": [
      "(46071, 10)\n"
     ]
    },
    {
     "data": {
      "text/plain": [
       "1    38479\n",
       "0     7592\n",
       "Name: Score, dtype: int64"
      ]
     },
     "execution_count": 14,
     "metadata": {
      "tags": []
     },
     "output_type": "execute_result"
    }
   ],
   "source": [
    "#Before starting the next phase of preprocessing lets see the number of entries left\n",
    "print(final.shape)\n",
    "\n",
    "#How many positive and negative reviews are present in our dataset?\n",
    "final['Score'].value_counts()"
   ]
  },
  {
   "cell_type": "markdown",
   "metadata": {
    "colab_type": "text",
    "id": "fu12_ACbChYY"
   },
   "source": [
    "#  [3] Preprocessing"
   ]
  },
  {
   "cell_type": "markdown",
   "metadata": {
    "colab_type": "text",
    "id": "3pg73rLEChYa"
   },
   "source": [
    "## [3.1].  Preprocessing Review Text\n",
    "\n",
    "Now that we have finished deduplication our data requires some preprocessing before we go on further with analysis and making the prediction model.\n",
    "\n",
    "Hence in the Preprocessing phase we do the following in the order below:-\n",
    "\n",
    "1. Begin by removing the html tags\n",
    "2. Remove any punctuations or limited set of special characters like , or . or # etc.\n",
    "3. Check if the word is made up of english letters and is not alpha-numeric\n",
    "4. Check to see if the length of the word is greater than 2 (as it was researched that there is no adjective in 2-letters)\n",
    "5. Convert the word to lowercase\n",
    "6. Remove Stopwords\n",
    "7. Finally Snowball Stemming the word (it was obsereved to be better than Porter Stemming)<br>\n",
    "\n",
    "After which we collect the words used to describe positive and negative reviews"
   ]
  },
  {
   "cell_type": "code",
   "execution_count": 15,
   "metadata": {
    "ExecuteTime": {
     "end_time": "2019-05-17T13:50:09.973748Z",
     "start_time": "2019-05-17T13:50:09.956794Z"
    },
    "colab": {
     "base_uri": "https://localhost:8080/",
     "height": 0
    },
    "colab_type": "code",
    "id": "BZpKtJnDChYc",
    "outputId": "83fdfb10-a0a4-4d94-f3ed-aad23f995998"
   },
   "outputs": [
    {
     "name": "stdout",
     "output_type": "stream",
     "text": [
      "My dogs loves this chicken but its a product from China, so we wont be buying it anymore.  Its very hard to find any chicken products made in the USA but they are out there, but this one isnt.  Its too bad too because its a good product but I wont take any chances till they know what is going on with the china imports.\n",
      "==================================================\n",
      "this is yummy, easy and unusual. it makes a quick, delicous pie, crisp or cobbler. home made is better, but a heck of a lot more work. this is great to have on hand for last minute dessert needs where you really want to impress wih your creativity in cooking! recommended.\n",
      "==================================================\n",
      "Great flavor, low in calories, high in nutrients, high in protein! Usually protein powders are high priced and high in calories, this one is a great bargain and tastes great, I highly recommend for the lady gym rats, probably not \"macho\" enough for guys since it is soy based...\n",
      "==================================================\n",
      "For those of you wanting a high-quality, yet affordable green tea, you should definitely give this one a try. Let me first start by saying that everyone is looking for something different for their ideal tea, and I will attempt to briefly highlight what makes this tea attractive to a wide range of tea drinkers (whether you are a beginner or long-time tea enthusiast).  I have gone through over 12 boxes of this tea myself, and highly recommend it for the following reasons:<br /><br />-Quality:  First, this tea offers a smooth quality without any harsh or bitter after tones, which often turns people off from many green teas.  I've found my ideal brewing time to be between 3-5 minutes, giving you a light but flavorful cup of tea.  However, if you get distracted or forget about your tea and leave it brewing for 20+ minutes like I sometimes do, the quality of this tea is such that you still get a smooth but deeper flavor without the bad after taste.  The leaves themselves are whole leaves (not powdered stems, branches, etc commonly found in other brands), and the high-quality nylon bags also include chunks of tropical fruit and other discernible ingredients.  This isn't your standard cheap paper bag with a mix of unknown ingredients that have been ground down to a fine powder, leaving you to wonder what it is you are actually drinking.<br /><br />-Taste:  This tea offers notes of real pineapple and other hints of tropical fruits, yet isn't sweet or artificially flavored.  You have the foundation of a high-quality young hyson green tea for those true \"tea flavor\" lovers, yet the subtle hints of fruit make this a truly unique tea that I believe most will enjoy.  If you want it sweet, you can add sugar, splenda, etc but this really is not necessary as this tea offers an inherent warmth of flavor through it's ingredients.<br /><br />-Price:  This tea offers an excellent product at an exceptional price (especially when purchased at the prices Amazon offers).  Compared to other brands which I believe to be of similar quality (Mighty Leaf, Rishi, Two Leaves, etc.), Revolution offers a superior product at an outstanding price.  I have been purchasing this through Amazon for less per box than I would be paying at my local grocery store for Lipton, etc.<br /><br />Overall, this is a wonderful tea that is comparable, and even better than, other teas that are priced much higher.  It offers a well-balanced cup of green tea that I believe many will enjoy.  In terms of taste, quality, and price, I would argue you won't find a better combination that that offered by Revolution's Tropical Green Tea.\n",
      "==================================================\n"
     ]
    }
   ],
   "source": [
    "# printing some random reviews\n",
    "sent_0 = final['Text'].values[0]\n",
    "print(sent_0)\n",
    "print(\"=\"*50)\n",
    "\n",
    "sent_1000 = final['Text'].values[1000]\n",
    "print(sent_1000)\n",
    "print(\"=\"*50)\n",
    "\n",
    "sent_1500 = final['Text'].values[1500]\n",
    "print(sent_1500)\n",
    "print(\"=\"*50)\n",
    "\n",
    "sent_4900 = final['Text'].values[4900]\n",
    "print(sent_4900)\n",
    "print(\"=\"*50)"
   ]
  },
  {
   "cell_type": "code",
   "execution_count": 16,
   "metadata": {
    "ExecuteTime": {
     "end_time": "2019-05-17T11:52:15.865793Z",
     "start_time": "2019-05-17T11:52:15.859809Z"
    },
    "colab": {
     "base_uri": "https://localhost:8080/",
     "height": 0
    },
    "colab_type": "code",
    "id": "tpufjpl_ChYm",
    "outputId": "0a67e9fe-baa8-4b7f-ef09-77e157fe2253"
   },
   "outputs": [
    {
     "name": "stdout",
     "output_type": "stream",
     "text": [
      "My dogs loves this chicken but its a product from China, so we wont be buying it anymore.  Its very hard to find any chicken products made in the USA but they are out there, but this one isnt.  Its too bad too because its a good product but I wont take any chances till they know what is going on with the china imports.\n"
     ]
    }
   ],
   "source": [
    "# remove urls from text python: https://stackoverflow.com/a/40823105/4084039\n",
    "sent_0 = re.sub(r\"http\\S+\", \"\", sent_0)\n",
    "sent_1000 = re.sub(r\"http\\S+\", \"\", sent_1000)\n",
    "sent_150 = re.sub(r\"http\\S+\", \"\", sent_1500)\n",
    "sent_4900 = re.sub(r\"http\\S+\", \"\", sent_4900)\n",
    "\n",
    "print(sent_0)"
   ]
  },
  {
   "cell_type": "code",
   "execution_count": 17,
   "metadata": {
    "ExecuteTime": {
     "end_time": "2019-05-17T13:50:11.444083Z",
     "start_time": "2019-05-17T13:50:11.387235Z"
    },
    "colab": {
     "base_uri": "https://localhost:8080/",
     "height": 0
    },
    "colab_type": "code",
    "id": "giHr0E8zChYv",
    "outputId": "93434b94-b304-4ae9-c79c-08b16fe331bb"
   },
   "outputs": [
    {
     "name": "stdout",
     "output_type": "stream",
     "text": [
      "My dogs loves this chicken but its a product from China, so we wont be buying it anymore.  Its very hard to find any chicken products made in the USA but they are out there, but this one isnt.  Its too bad too because its a good product but I wont take any chances till they know what is going on with the china imports.\n",
      "==================================================\n",
      "this is yummy, easy and unusual. it makes a quick, delicous pie, crisp or cobbler. home made is better, but a heck of a lot more work. this is great to have on hand for last minute dessert needs where you really want to impress wih your creativity in cooking! recommended.\n",
      "==================================================\n",
      "Great flavor, low in calories, high in nutrients, high in protein! Usually protein powders are high priced and high in calories, this one is a great bargain and tastes great, I highly recommend for the lady gym rats, probably not \"macho\" enough for guys since it is soy based...\n",
      "==================================================\n",
      "For those of you wanting a high-quality, yet affordable green tea, you should definitely give this one a try. Let me first start by saying that everyone is looking for something different for their ideal tea, and I will attempt to briefly highlight what makes this tea attractive to a wide range of tea drinkers (whether you are a beginner or long-time tea enthusiast).  I have gone through over 12 boxes of this tea myself, and highly recommend it for the following reasons:-Quality:  First, this tea offers a smooth quality without any harsh or bitter after tones, which often turns people off from many green teas.  I've found my ideal brewing time to be between 3-5 minutes, giving you a light but flavorful cup of tea.  However, if you get distracted or forget about your tea and leave it brewing for 20+ minutes like I sometimes do, the quality of this tea is such that you still get a smooth but deeper flavor without the bad after taste.  The leaves themselves are whole leaves (not powdered stems, branches, etc commonly found in other brands), and the high-quality nylon bags also include chunks of tropical fruit and other discernible ingredients.  This isn't your standard cheap paper bag with a mix of unknown ingredients that have been ground down to a fine powder, leaving you to wonder what it is you are actually drinking.-Taste:  This tea offers notes of real pineapple and other hints of tropical fruits, yet isn't sweet or artificially flavored.  You have the foundation of a high-quality young hyson green tea for those true \"tea flavor\" lovers, yet the subtle hints of fruit make this a truly unique tea that I believe most will enjoy.  If you want it sweet, you can add sugar, splenda, etc but this really is not necessary as this tea offers an inherent warmth of flavor through it's ingredients.-Price:  This tea offers an excellent product at an exceptional price (especially when purchased at the prices Amazon offers).  Compared to other brands which I believe to be of similar quality (Mighty Leaf, Rishi, Two Leaves, etc.), Revolution offers a superior product at an outstanding price.  I have been purchasing this through Amazon for less per box than I would be paying at my local grocery store for Lipton, etc.Overall, this is a wonderful tea that is comparable, and even better than, other teas that are priced much higher.  It offers a well-balanced cup of green tea that I believe many will enjoy.  In terms of taste, quality, and price, I would argue you won't find a better combination that that offered by Revolution's Tropical Green Tea.\n"
     ]
    }
   ],
   "source": [
    "# https://stackoverflow.com/questions/16206380/python-beautifulsoup-how-to-remove-all-tags-from-an-element\n",
    "from bs4 import BeautifulSoup\n",
    "\n",
    "soup = BeautifulSoup(sent_0, 'lxml')\n",
    "text = soup.get_text()\n",
    "print(text)\n",
    "print(\"=\"*50)\n",
    "\n",
    "soup = BeautifulSoup(sent_1000, 'lxml')\n",
    "text = soup.get_text()\n",
    "print(text)\n",
    "print(\"=\"*50)\n",
    "\n",
    "soup = BeautifulSoup(sent_1500, 'lxml')\n",
    "text = soup.get_text()\n",
    "print(text)\n",
    "print(\"=\"*50)\n",
    "\n",
    "soup = BeautifulSoup(sent_4900, 'lxml')\n",
    "text = soup.get_text()\n",
    "print(text)"
   ]
  },
  {
   "cell_type": "code",
   "execution_count": 0,
   "metadata": {
    "ExecuteTime": {
     "end_time": "2019-05-17T13:55:46.196365Z",
     "start_time": "2019-05-17T13:55:46.189384Z"
    },
    "colab": {},
    "colab_type": "code",
    "id": "HdhtRruPChY3"
   },
   "outputs": [],
   "source": [
    "# https://stackoverflow.com/a/47091490/4084039\n",
    "import re\n",
    "\n",
    "def decontracted(phrase):\n",
    "    # specific\n",
    "    phrase = re.sub(r\"won\\'t\", \"will not\", phrase)\n",
    "    phrase = re.sub(r\"can\\'t\", \"can not\", phrase)\n",
    "    phrase = re.sub(r\"ain\\'t\", \"is not\", phrase)\n",
    "    phrase = re.sub(r\"gonna\", \"going to\", phrase)\n",
    "    phrase = re.sub(r\"gotta\", \"got to\", phrase)\n",
    "    phrase = re.sub(r\"\\'cause\", \"because\", phrase)\n",
    "    \n",
    "    # general\n",
    "    phrase = re.sub(r\"n\\'t\", \" not\", phrase)\n",
    "    phrase = re.sub(r\"\\'re\", \" are\", phrase)\n",
    "    phrase = re.sub(r\"\\'s\", \" is\", phrase)\n",
    "    phrase = re.sub(r\"\\'d\", \" would\", phrase)\n",
    "    phrase = re.sub(r\"\\'ll\", \" will\", phrase)\n",
    "    phrase = re.sub(r\"\\'t\", \" not\", phrase)\n",
    "    phrase = re.sub(r\"\\'ve\", \" have\", phrase)\n",
    "    phrase = re.sub(r\"\\'m\", \" am\", phrase)\n",
    "    return phrase"
   ]
  },
  {
   "cell_type": "code",
   "execution_count": 19,
   "metadata": {
    "ExecuteTime": {
     "end_time": "2019-05-17T13:55:48.025847Z",
     "start_time": "2019-05-17T13:55:48.017894Z"
    },
    "colab": {
     "base_uri": "https://localhost:8080/",
     "height": 0
    },
    "colab_type": "code",
    "id": "S8yht6Y7ChY7",
    "outputId": "2a15e341-feee-4ef9-c332-a707b2991fbe"
   },
   "outputs": [
    {
     "name": "stdout",
     "output_type": "stream",
     "text": [
      "Great flavor, low in calories, high in nutrients, high in protein! Usually protein powders are high priced and high in calories, this one is a great bargain and tastes great, I highly recommend for the lady gym rats, probably not \"macho\" enough for guys since it is soy based...\n",
      "==================================================\n"
     ]
    }
   ],
   "source": [
    "sent_1500 = decontracted(sent_1500)\n",
    "print(sent_1500)\n",
    "print(\"=\"*50)"
   ]
  },
  {
   "cell_type": "code",
   "execution_count": 20,
   "metadata": {
    "ExecuteTime": {
     "end_time": "2019-05-17T13:56:15.914177Z",
     "start_time": "2019-05-17T13:56:15.908194Z"
    },
    "colab": {
     "base_uri": "https://localhost:8080/",
     "height": 0
    },
    "colab_type": "code",
    "id": "zJU8V8P4ChZE",
    "outputId": "6ccc5198-7f3f-418d-8c86-f83aff7e2917"
   },
   "outputs": [
    {
     "name": "stdout",
     "output_type": "stream",
     "text": [
      "My dogs loves this chicken but its a product from China, so we wont be buying it anymore.  Its very hard to find any chicken products made in the USA but they are out there, but this one isnt.  Its too bad too because its a good product but I wont take any chances till they know what is going on with the china imports.\n"
     ]
    }
   ],
   "source": [
    "#remove words with numbers python: https://stackoverflow.com/a/18082370/4084039\n",
    "sent_0 = re.sub(\"\\S*\\d\\S*\", \"\", sent_0).strip()\n",
    "print(sent_0)"
   ]
  },
  {
   "cell_type": "code",
   "execution_count": 21,
   "metadata": {
    "ExecuteTime": {
     "end_time": "2019-05-17T13:56:20.369816Z",
     "start_time": "2019-05-17T13:56:20.364824Z"
    },
    "colab": {
     "base_uri": "https://localhost:8080/",
     "height": 0
    },
    "colab_type": "code",
    "id": "zUDg3iWhChZL",
    "outputId": "6f52d9de-8886-44c9-b9e5-d08e28c0d723"
   },
   "outputs": [
    {
     "name": "stdout",
     "output_type": "stream",
     "text": [
      "Great flavor low in calories high in nutrients high in protein Usually protein powders are high priced and high in calories this one is a great bargain and tastes great I highly recommend for the lady gym rats probably not macho enough for guys since it is soy based \n"
     ]
    }
   ],
   "source": [
    "#remove spacial character: https://stackoverflow.com/a/5843547/4084039\n",
    "sent_1500 = re.sub('[^A-Za-z0-9]+', ' ', sent_1500)\n",
    "print(sent_1500)"
   ]
  },
  {
   "cell_type": "code",
   "execution_count": 0,
   "metadata": {
    "colab": {},
    "colab_type": "code",
    "id": "q2QebhvKChZR"
   },
   "outputs": [],
   "source": [
    "# https://gist.github.com/sebleier/554280\n",
    "# we are removing the words from the stop words list: 'no', 'nor', 'not'\n",
    "# <br /><br /> ==> after the above steps, we are getting \"br br\"\n",
    "# we are including them into stop words list\n",
    "# instead of <br /> if we have <br/> these tags would have revmoved in the 1st step\n",
    "\n",
    "stopwords= set(['br', 'the', 'i', 'me', 'my', 'myself', 'we', 'our', 'ours', 'ourselves', 'you', \"you're\", \"you've\",\\\n",
    "            \"you'll\", \"you'd\", 'your', 'yours', 'yourself', 'yourselves', 'he', 'him', 'his', 'himself', \\\n",
    "            'she', \"she's\", 'her', 'hers', 'herself', 'it', \"it's\", 'its', 'itself', 'they', 'them', 'their',\\\n",
    "            'theirs', 'themselves', 'what', 'which', 'who', 'whom', 'this', 'that', \"that'll\", 'these', 'those', \\\n",
    "            'am', 'is', 'are', 'was', 'were', 'be', 'been', 'being', 'have', 'has', 'had', 'having', 'do', 'does', \\\n",
    "            'did', 'doing', 'a', 'an', 'the', 'and', 'but', 'if', 'or', 'because', 'as', 'until', 'while', 'of', \\\n",
    "            'at', 'by', 'for', 'with', 'about', 'against', 'between', 'into', 'through', 'during', 'before', 'after',\\\n",
    "            'above', 'below', 'to', 'from', 'up', 'down', 'in', 'out', 'on', 'off', 'over', 'under', 'again', 'further',\\\n",
    "            'then', 'once', 'here', 'there', 'when', 'where', 'why', 'how', 'all', 'any', 'both', 'each', 'few', 'more',\\\n",
    "            'most', 'other', 'some', 'such', 'only', 'own', 'same', 'so', 'than', 'too', 'very', \\\n",
    "            's', 't', 'can', 'will', 'just', 'don', \"don't\", 'should', \"should've\", 'now', 'd', 'll', 'm', 'o', 're', \\\n",
    "            've', 'y', 'ain', 'aren', \"aren't\", 'couldn', \"couldn't\", 'didn', \"didn't\", 'doesn', \"doesn't\", 'hadn',\\\n",
    "            \"hadn't\", 'hasn', \"hasn't\", 'haven', \"haven't\", 'isn', \"isn't\", 'ma', 'mightn', \"mightn't\", 'mustn',\\\n",
    "            \"mustn't\", 'needn', \"needn't\", 'shan', \"shan't\", 'shouldn', \"shouldn't\", 'wasn', \"wasn't\", 'weren', \"weren't\", \\\n",
    "            'won', \"won't\", 'wouldn', \"wouldn't\"])"
   ]
  },
  {
   "cell_type": "code",
   "execution_count": 23,
   "metadata": {
    "ExecuteTime": {
     "end_time": "2019-05-17T15:04:19.865154Z",
     "start_time": "2019-05-17T15:03:45.673089Z"
    },
    "colab": {
     "base_uri": "https://localhost:8080/",
     "height": 0
    },
    "colab_type": "code",
    "id": "SxOsbLMyChZV",
    "outputId": "dbe896af-a094-40ad-e531-5fb4d0c8ecd3"
   },
   "outputs": [
    {
     "name": "stderr",
     "output_type": "stream",
     "text": [
      "100%|██████████| 46071/46071 [00:15<00:00, 2999.11it/s]\n"
     ]
    }
   ],
   "source": [
    "# Combining all the above stundents \n",
    "from tqdm import tqdm\n",
    "preprocessed_reviews = []\n",
    "# tqdm is for printing the status bar\n",
    "for sentence in tqdm(final['Text'].values):\n",
    "    sentence = re.sub(r\"http\\S+\", \"\", sentence)\n",
    "    sentence = BeautifulSoup(sentence, 'lxml').get_text()\n",
    "    sentence = decontracted(sentence)\n",
    "    sentence = re.sub(\"\\S*\\d\\S*\", \"\", sentence).strip()\n",
    "    sentence = re.sub('[^A-Za-z]+', ' ', sentence)\n",
    "    # https://gist.github.com/sebleier/554280\n",
    "    # Not removing stopwords to preserve sequence info\n",
    "    sentence = ' '.join(e.lower() for e in sentence.split()) #if e.lower() not in stopwords)\n",
    "    preprocessed_reviews.append(sentence.strip())"
   ]
  },
  {
   "cell_type": "code",
   "execution_count": 24,
   "metadata": {
    "ExecuteTime": {
     "end_time": "2019-05-17T15:04:21.524600Z",
     "start_time": "2019-05-17T15:04:21.519600Z"
    },
    "colab": {
     "base_uri": "https://localhost:8080/",
     "height": 0
    },
    "colab_type": "code",
    "id": "QqPomIjSChZa",
    "outputId": "f7a2a04c-71b6-4114-ab7b-87621d0cc7a7"
   },
   "outputs": [
    {
     "data": {
      "text/plain": [
       "'great flavor low in calories high in nutrients high in protein usually protein powders are high priced and high in calories this one is a great bargain and tastes great i highly recommend for the lady gym rats probably not macho enough for guys since it is soy based'"
      ]
     },
     "execution_count": 24,
     "metadata": {
      "tags": []
     },
     "output_type": "execute_result"
    }
   ],
   "source": [
    "preprocessed_reviews[1500]"
   ]
  },
  {
   "cell_type": "code",
   "execution_count": 0,
   "metadata": {
    "ExecuteTime": {
     "end_time": "2019-05-17T15:25:25.904853Z",
     "start_time": "2019-05-17T15:25:25.899854Z"
    },
    "colab": {},
    "colab_type": "code",
    "id": "CcFUvOHxChZh"
   },
   "outputs": [],
   "source": [
    "preprocessed_reviews_test = preprocessed_reviews[35000:]\n",
    "y_test = final['Score'][35000:]\n",
    "preprocessed_reviews_train = preprocessed_reviews[:35000]\n",
    "y_train = final['Score'][:35000]"
   ]
  },
  {
   "cell_type": "code",
   "execution_count": 26,
   "metadata": {
    "ExecuteTime": {
     "end_time": "2019-05-17T15:04:27.626988Z",
     "start_time": "2019-05-17T15:04:27.617051Z"
    },
    "colab": {
     "base_uri": "https://localhost:8080/",
     "height": 0
    },
    "colab_type": "code",
    "id": "EA5PMyTWrtQE",
    "outputId": "3b11e60c-918d-4b0a-c788-647f92510122"
   },
   "outputs": [
    {
     "name": "stdout",
     "output_type": "stream",
     "text": [
      "No. of reviews in Train Set:  35000\n",
      "No. of reviews in Test Set:  11071\n",
      "Test size as a percentage of the datatset:  24.030301057064097\n"
     ]
    }
   ],
   "source": [
    "print(\"No. of reviews in Train Set: \", len(preprocessed_reviews_train))\n",
    "print(\"No. of reviews in Test Set: \", len(preprocessed_reviews_test))\n",
    "print(\"Test size as a percentage of the datatset: \", \n",
    "      len(preprocessed_reviews_test)*100/(len(preprocessed_reviews_train) + len(preprocessed_reviews_test)))"
   ]
  },
  {
   "cell_type": "markdown",
   "metadata": {
    "colab_type": "text",
    "id": "N317lr0XChZk"
   },
   "source": [
    "# [4] Converting Reviews into Sequences of Integer Indices"
   ]
  },
  {
   "cell_type": "markdown",
   "metadata": {
    "colab_type": "text",
    "id": "54S3lxKpChZl"
   },
   "source": [
    "## [4.1] BAG OF WORDS Featurization of Review Corpus"
   ]
  },
  {
   "cell_type": "code",
   "execution_count": 27,
   "metadata": {
    "ExecuteTime": {
     "end_time": "2019-05-17T15:04:37.792184Z",
     "start_time": "2019-05-17T15:04:31.937839Z"
    },
    "colab": {
     "base_uri": "https://localhost:8080/",
     "height": 0
    },
    "colab_type": "code",
    "id": "OSZKakcCChZm",
    "outputId": "f8bac10c-9bc0-4ad4-d868-b75a613336a0"
   },
   "outputs": [
    {
     "name": "stdout",
     "output_type": "stream",
     "text": [
      "some feature names  ['ability', 'able', 'about', 'above', 'absolute', 'absolutely', 'absorb', 'absorbed', 'acai', 'accept']\n",
      "==================================================\n",
      "the type of count vectorizer  <class 'scipy.sparse.csr.csr_matrix'>\n",
      "the shape of out text BOW vectorizer  (35000, 5000)\n",
      "the number of unique words  5000\n"
     ]
    }
   ],
   "source": [
    "#BoW\n",
    "top_words = 5000\n",
    "count_vect = CountVectorizer(max_features=top_words) #in scikit-learn\n",
    "count_vect.fit(preprocessed_reviews_train)\n",
    "print(\"some feature names \", count_vect.get_feature_names()[:10])\n",
    "print('='*50)\n",
    "\n",
    "final_counts = count_vect.transform(preprocessed_reviews_train)\n",
    "print(\"the type of count vectorizer \",type(final_counts))\n",
    "print(\"the shape of out text BOW vectorizer \",final_counts.get_shape())\n",
    "print(\"the number of unique words \", final_counts.get_shape()[1])"
   ]
  },
  {
   "cell_type": "markdown",
   "metadata": {
    "colab_type": "text",
    "id": "0yM9WAwTRBvx"
   },
   "source": [
    "## [4.2] Generating Sequence of Integers for each Review using Vocabulary of Train Set"
   ]
  },
  {
   "cell_type": "code",
   "execution_count": 28,
   "metadata": {
    "ExecuteTime": {
     "end_time": "2019-05-17T15:04:45.612022Z",
     "start_time": "2019-05-17T15:04:43.189527Z"
    },
    "colab": {
     "base_uri": "https://localhost:8080/",
     "height": 0
    },
    "colab_type": "code",
    "id": "doOwJJlOrtQL",
    "outputId": "669cc716-c4c6-45ad-e4ad-ae01afac66ed"
   },
   "outputs": [
    {
     "name": "stderr",
     "output_type": "stream",
     "text": [
      "100%|██████████| 35000/35000 [00:00<00:00, 35021.99it/s]\n",
      "100%|██████████| 11071/11071 [00:00<00:00, 41229.10it/s]\n"
     ]
    }
   ],
   "source": [
    "X_train = []; X_test = []\n",
    "vocab = count_vect.vocabulary_\n",
    "# Turning all reviews in Train and Test sets into sequence of integers(word indexes in train set vocabulary)\n",
    "for sent in tqdm(preprocessed_reviews_train):\n",
    "    sent = [vocab[word] for word in sent.split() if word in vocab.keys()]\n",
    "    X_train.append(sent)\n",
    "\n",
    "for sent in tqdm(preprocessed_reviews_test):\n",
    "    sent = [vocab[word] for word in sent.split() if word in vocab.keys()]\n",
    "    X_test.append(sent)"
   ]
  },
  {
   "cell_type": "code",
   "execution_count": 29,
   "metadata": {
    "ExecuteTime": {
     "end_time": "2019-05-17T15:04:52.187623Z",
     "start_time": "2019-05-17T15:04:50.885122Z"
    },
    "colab": {
     "base_uri": "https://localhost:8080/",
     "height": 0
    },
    "colab_type": "code",
    "id": "ztk6agSErtQP",
    "outputId": "7499c6c9-da53-4168-8f7d-b7da58598c2d"
   },
   "outputs": [
    {
     "name": "stdout",
     "output_type": "stream",
     "text": [
      "Length of longest review:  1410\n",
      "(35000, 1410)\n",
      "[   0    0    0 ... 4468 4852 3705]\n"
     ]
    }
   ],
   "source": [
    "max_review_length = max([len(sent) for sent in X_train+X_test])\n",
    "print(\"Length of longest review: \", max_review_length)\n",
    "# Padding Train and Test Set reviews with zeros\n",
    "X_train = sequence.pad_sequences(X_train, maxlen=max_review_length)\n",
    "X_test = sequence.pad_sequences(X_test, maxlen=max_review_length)\n",
    "\n",
    "print(X_train.shape)\n",
    "print(X_train[1])"
   ]
  },
  {
   "cell_type": "code",
   "execution_count": 30,
   "metadata": {
    "colab": {
     "base_uri": "https://localhost:8080/",
     "height": 0
    },
    "colab_type": "code",
    "id": "N8CbryaJK7Me",
    "outputId": "2573df9a-f189-4301-b774-95126795dfd9"
   },
   "outputs": [
    {
     "data": {
      "text/plain": [
       "1    0.838029\n",
       "0    0.161971\n",
       "Name: Score, dtype: float64"
      ]
     },
     "execution_count": 30,
     "metadata": {
      "tags": []
     },
     "output_type": "execute_result"
    }
   ],
   "source": [
    "y_train.value_counts(normalize=True)"
   ]
  },
  {
   "cell_type": "code",
   "execution_count": 0,
   "metadata": {
    "colab": {},
    "colab_type": "code",
    "id": "cWVfbgOb5gCB"
   },
   "outputs": [],
   "source": [
    "%matplotlib inline\n",
    "import matplotlib.pyplot as plt\n",
    "import numpy as np\n",
    "import time\n",
    "# https://gist.github.com/greydanus/f6eee59eaf1d90fcb3b534a25362cea4\n",
    "# https://stackoverflow.com/a/14434334\n",
    "# this function is used to update the plots for each epoch and error\n",
    "def plt_dynamic(x, vy, ty, ax, colors=['b']):\n",
    "    ax.plot(x, vy, 'b', label=\"Validation Loss\")\n",
    "    ax.plot(x, ty, 'r', label=\"Train Loss\")\n",
    "    plt.legend()\n",
    "    plt.grid()\n",
    "    fig.canvas.draw()"
   ]
  },
  {
   "cell_type": "markdown",
   "metadata": {
    "colab_type": "text",
    "id": "Qsbu_JyNRam7"
   },
   "source": [
    "# [5] Building and Training an LSTM model"
   ]
  },
  {
   "cell_type": "markdown",
   "metadata": {
    "colab_type": "text",
    "id": "CWBYOljHpXpU"
   },
   "source": [
    "## [5.1] Model 1"
   ]
  },
  {
   "cell_type": "code",
   "execution_count": 39,
   "metadata": {
    "ExecuteTime": {
     "end_time": "2019-05-17T16:38:26.392912Z",
     "start_time": "2019-05-17T16:38:25.763088Z"
    },
    "colab": {
     "base_uri": "https://localhost:8080/",
     "height": 259
    },
    "colab_type": "code",
    "id": "3VHKtaxRrtQV",
    "outputId": "ba672957-7ec1-45a4-9e1e-8b5844831c01"
   },
   "outputs": [
    {
     "name": "stdout",
     "output_type": "stream",
     "text": [
      "_________________________________________________________________\n",
      "Layer (type)                 Output Shape              Param #   \n",
      "=================================================================\n",
      "embedding_4 (Embedding)      (None, 1410, 32)          160032    \n",
      "_________________________________________________________________\n",
      "lstm_4 (LSTM)                (None, 35)                9520      \n",
      "_________________________________________________________________\n",
      "dense_4 (Dense)              (None, 1)                 36        \n",
      "=================================================================\n",
      "Total params: 169,588\n",
      "Trainable params: 169,588\n",
      "Non-trainable params: 0\n",
      "_________________________________________________________________\n",
      "None\n"
     ]
    }
   ],
   "source": [
    "# create the model\n",
    "embedding_vector_length = 32\n",
    "model = Sequential()\n",
    "model.add(Embedding(top_words+1, embedding_vector_length, input_length=max_review_length))\n",
    "model.add(LSTM(35, dropout=0.5, kernel_initializer='glorot_normal'))\n",
    "#model.add(LSTM(100))\n",
    "#model.add(Dropout(rate=0.5))\n",
    "model.add(Dense(1, activation='sigmoid'))\n",
    "model.compile(loss='binary_crossentropy', optimizer='adam', metrics=['accuracy'])\n",
    "print(model.summary())\n",
    "#Refer: https://datascience.stackexchange.com/questions/10615/number-of-parameters-in-an-lstm-model"
   ]
  },
  {
   "cell_type": "code",
   "execution_count": 40,
   "metadata": {
    "ExecuteTime": {
     "start_time": "2019-05-17T16:38:33.306Z"
    },
    "colab": {
     "base_uri": "https://localhost:8080/",
     "height": 397
    },
    "colab_type": "code",
    "id": "X6YbJGHQrtQZ",
    "outputId": "5a2a9557-99c8-4a13-812e-e69f1cf4850e"
   },
   "outputs": [
    {
     "name": "stdout",
     "output_type": "stream",
     "text": [
      "Train on 35000 samples, validate on 11071 samples\n",
      "Epoch 1/10\n",
      "35000/35000 [==============================] - 181s 5ms/step - loss: 1.0072 - acc: 0.7209 - val_loss: 0.4591 - val_acc: 0.8014\n",
      "Epoch 2/10\n",
      "35000/35000 [==============================] - 177s 5ms/step - loss: 0.5843 - acc: 0.8461 - val_loss: 0.3554 - val_acc: 0.8387\n",
      "Epoch 3/10\n",
      "35000/35000 [==============================] - 179s 5ms/step - loss: 0.4532 - acc: 0.8868 - val_loss: 0.2961 - val_acc: 0.8802\n",
      "Epoch 4/10\n",
      "35000/35000 [==============================] - 178s 5ms/step - loss: 0.4090 - acc: 0.8991 - val_loss: 0.2994 - val_acc: 0.8751\n",
      "Epoch 5/10\n",
      "35000/35000 [==============================] - 177s 5ms/step - loss: 0.3559 - acc: 0.9144 - val_loss: 0.3069 - val_acc: 0.8775\n",
      "Epoch 6/10\n",
      "35000/35000 [==============================] - 178s 5ms/step - loss: 0.3323 - acc: 0.9182 - val_loss: 0.3433 - val_acc: 0.8663\n",
      "Epoch 7/10\n",
      "35000/35000 [==============================] - 176s 5ms/step - loss: 0.3099 - acc: 0.9247 - val_loss: 0.3320 - val_acc: 0.8735\n",
      "Epoch 8/10\n",
      "35000/35000 [==============================] - 177s 5ms/step - loss: 0.2862 - acc: 0.9304 - val_loss: 0.3036 - val_acc: 0.8795\n",
      "Epoch 9/10\n",
      "35000/35000 [==============================] - 176s 5ms/step - loss: 0.2775 - acc: 0.9327 - val_loss: 0.2982 - val_acc: 0.8875\n",
      "Epoch 10/10\n",
      "35000/35000 [==============================] - 178s 5ms/step - loss: 0.2738 - acc: 0.9333 - val_loss: 0.3163 - val_acc: 0.8823\n",
      "Accuracy: 88.23%\n"
     ]
    }
   ],
   "source": [
    "# Since there are nearly 5 times positive class samples than negative, we are balancing class weights as 5:1\n",
    "history = model.fit(X_train, y_train, nb_epoch=10, batch_size=500, verbose=1,\n",
    "                   validation_data=(X_test, y_test), class_weight={0:5, 1:1})\n",
    "# Final evaluation of the model\n",
    "scores = model.evaluate(X_test, y_test, verbose=0)\n",
    "print(\"Accuracy: %.2f%%\" % (scores[1]*100))\n",
    "with open('history.pkl', 'wb') as hfile:\n",
    "  pickle.dump(history, hfile)"
   ]
  },
  {
   "cell_type": "code",
   "execution_count": 41,
   "metadata": {
    "colab": {
     "base_uri": "https://localhost:8080/",
     "height": 283
    },
    "colab_type": "code",
    "id": "Gsch0rFy5-pc",
    "outputId": "ae1bbb2d-d234-4a22-c55b-efb8f31469d0"
   },
   "outputs": [
    {
     "data": {
      "image/png": "[encoded data removed]",
      "text/plain": [
       "<Figure size 432x288 with 1 Axes>"
      ]
     },
     "metadata": {
      "tags": []
     },
     "output_type": "display_data"
    }
   ],
   "source": [
    "fig,ax = plt.subplots(1,1)\n",
    "ax.set_xlabel('epoch') ; ax.set_ylabel('Categorical Crossentropy Loss')\n",
    "\n",
    "# list of epoch numbers\n",
    "x = list(range(1, 10+1))\n",
    "\n",
    "# print(history.history.keys())\n",
    "# dict_keys(['val_loss', 'val_acc', 'loss', 'acc'])\n",
    "# history = model_drop.fit(X_train, Y_train, batch_size=batch_size, epochs=nb_epoch, verbose=1, validation_data=(X_test, Y_test))\n",
    "\n",
    "# we will get val_loss and val_acc only when you pass the paramter validation_data\n",
    "# val_loss : validation loss\n",
    "# val_acc : validation accuracy\n",
    "\n",
    "# loss : training loss\n",
    "# acc : train accuracy\n",
    "# for each key in histrory.histrory we will have a list of length equal to number of epochs\n",
    "\n",
    "vy = history.history['val_loss']\n",
    "ty = history.history['loss']\n",
    "plt_dynamic(x, vy, ty, ax)"
   ]
  },
  {
   "cell_type": "markdown",
   "metadata": {
    "colab_type": "text",
    "id": "jBLNQtulpfm2"
   },
   "source": [
    "## [5.2] Model 2"
   ]
  },
  {
   "cell_type": "code",
   "execution_count": 0,
   "metadata": {
    "colab": {
     "base_uri": "https://localhost:8080/",
     "height": 294
    },
    "colab_type": "code",
    "id": "xUzPQRgc7c4A",
    "outputId": "2bcbbaa6-dd80-4f90-da68-b31a2bae2834"
   },
   "outputs": [
    {
     "name": "stdout",
     "output_type": "stream",
     "text": [
      "_________________________________________________________________\n",
      "Layer (type)                 Output Shape              Param #   \n",
      "=================================================================\n",
      "embedding_3 (Embedding)      (None, 1410, 32)          160032    \n",
      "_________________________________________________________________\n",
      "bidirectional_6 (Bidirection (None, 1410, 80)          23360     \n",
      "_________________________________________________________________\n",
      "lstm_12 (LSTM)               (None, 40)                19360     \n",
      "_________________________________________________________________\n",
      "dense_6 (Dense)              (None, 1)                 41        \n",
      "=================================================================\n",
      "Total params: 202,793\n",
      "Trainable params: 202,793\n",
      "Non-trainable params: 0\n",
      "_________________________________________________________________\n",
      "None\n"
     ]
    }
   ],
   "source": [
    "from keras.layers import Bidirectional\n",
    "#top_words = 5000;max_review_length = 2073\n",
    "# create the model\n",
    "embedding_vector_length = 32\n",
    "model2 = Sequential()\n",
    "model2.add(Embedding(top_words+1, embedding_vector_length, input_length=max_review_length))\n",
    "model2.add(Bidirectional(LSTM(40, dropout=0.7, recurrent_dropout=0.1, return_sequences=True, kernel_initializer='glorot_normal')))\n",
    "model2.add(LSTM(40, dropout=0.5, kernel_initializer='glorot_normal'))\n",
    "model2.add(Dense(1, activation='sigmoid'))\n",
    "model2.compile(loss='binary_crossentropy', optimizer='adam', metrics=['accuracy'])\n",
    "print(model2.summary())\n",
    "#Refer: https://datascience.stackexchange.com/questions/10615/number-of-parameters-in-an-lstm-model"
   ]
  },
  {
   "cell_type": "code",
   "execution_count": 0,
   "metadata": {
    "colab": {
     "base_uri": "https://localhost:8080/",
     "height": 469
    },
    "colab_type": "code",
    "id": "PK9EAm7M8LzI",
    "outputId": "016ff93c-a31e-4a9f-f43f-78a0676182b6"
   },
   "outputs": [
    {
     "name": "stdout",
     "output_type": "stream",
     "text": [
      "WARNING:tensorflow:From /usr/local/lib/python3.6/dist-packages/tensorflow/python/ops/math_ops.py:3066: to_int32 (from tensorflow.python.ops.math_ops) is deprecated and will be removed in a future version.\n",
      "Instructions for updating:\n",
      "Use tf.cast instead.\n",
      "Train on 35000 samples, validate on 11071 samples\n",
      "Epoch 1/10\n",
      "35000/35000 [==============================] - 717s 20ms/step - loss: 1.0044 - acc: 0.7437 - val_loss: 0.3622 - val_acc: 0.8506\n",
      "Epoch 2/10\n",
      "35000/35000 [==============================] - 718s 21ms/step - loss: 0.6391 - acc: 0.8352 - val_loss: 0.3445 - val_acc: 0.8520\n",
      "Epoch 3/10\n",
      "35000/35000 [==============================] - 714s 20ms/step - loss: 0.4997 - acc: 0.8774 - val_loss: 0.3109 - val_acc: 0.8735\n",
      "Epoch 4/10\n",
      "35000/35000 [==============================] - 718s 21ms/step - loss: 0.4503 - acc: 0.8904 - val_loss: 0.2897 - val_acc: 0.8810\n",
      "Epoch 5/10\n",
      "35000/35000 [==============================] - 717s 20ms/step - loss: 0.4063 - acc: 0.9032 - val_loss: 0.2997 - val_acc: 0.8707\n",
      "Epoch 6/10\n",
      "35000/35000 [==============================] - 709s 20ms/step - loss: 0.3822 - acc: 0.9065 - val_loss: 0.3305 - val_acc: 0.8623\n",
      "Epoch 7/10\n",
      "35000/35000 [==============================] - 707s 20ms/step - loss: 0.3608 - acc: 0.9090 - val_loss: 0.3366 - val_acc: 0.8616\n",
      "Epoch 8/10\n",
      "35000/35000 [==============================] - 710s 20ms/step - loss: 0.3357 - acc: 0.9167 - val_loss: 0.4185 - val_acc: 0.8365\n",
      "Epoch 9/10\n",
      "35000/35000 [==============================] - 711s 20ms/step - loss: 0.3169 - acc: 0.9220 - val_loss: 0.3137 - val_acc: 0.8815\n",
      "Epoch 10/10\n",
      "35000/35000 [==============================] - 714s 20ms/step - loss: 0.3076 - acc: 0.9255 - val_loss: 0.3270 - val_acc: 0.8708\n",
      "Accuracy: 87.08%\n"
     ]
    }
   ],
   "source": [
    "history2 = model2.fit(X_train, y_train, nb_epoch=10, batch_size=500, verbose=1,\n",
    "                   validation_data=(X_test, y_test), class_weight={0:5, 1:1})\n",
    "# Final evaluation of the model\n",
    "scores2 = model2.evaluate(X_test, y_test, verbose=0)\n",
    "print(\"Accuracy: %.2f%%\" % (scores2[1]*100))\n",
    "with open('history2.pkl', 'wb') as hfile:\n",
    "  pickle.dump(history2, hfile)"
   ]
  },
  {
   "cell_type": "code",
   "execution_count": 0,
   "metadata": {
    "colab": {
     "base_uri": "https://localhost:8080/",
     "height": 283
    },
    "colab_type": "code",
    "id": "e96yKJdvOnfk",
    "outputId": "460568df-1220-4cc0-9dc1-fd022f52a94b"
   },
   "outputs": [
    {
     "data": {
      "image/png": "[encoded data removed]",
      "text/plain": [
       "<Figure size 432x288 with 1 Axes>"
      ]
     },
     "metadata": {
      "tags": []
     },
     "output_type": "display_data"
    }
   ],
   "source": [
    "with open('history2.pkl', 'rb') as hfile:\n",
    "  history2 = pickle.load(hfile)\n",
    "fig,ax = plt.subplots(1,1)\n",
    "ax.set_xlabel('epoch') ; ax.set_ylabel('Categorical Crossentropy Loss')\n",
    "\n",
    "# list of epoch numbers\n",
    "x = list(range(1, 10+1))\n",
    "\n",
    "vy = history2.history['val_loss']\n",
    "ty = history2.history['loss']\n",
    "plt_dynamic(x, vy, ty, ax)"
   ]
  },
  {
   "cell_type": "markdown",
   "metadata": {
    "colab_type": "text",
    "id": "rU0jA-1zpnDY"
   },
   "source": [
    "## [5.3] Model 3"
   ]
  },
  {
   "cell_type": "code",
   "execution_count": 42,
   "metadata": {
    "colab": {
     "base_uri": "https://localhost:8080/",
     "height": 294
    },
    "colab_type": "code",
    "id": "6YRQcyo6kWJs",
    "outputId": "318341bf-547c-46a3-823c-d754e990bbbb"
   },
   "outputs": [
    {
     "name": "stdout",
     "output_type": "stream",
     "text": [
      "_________________________________________________________________\n",
      "Layer (type)                 Output Shape              Param #   \n",
      "=================================================================\n",
      "embedding_5 (Embedding)      (None, 1410, 64)          320064    \n",
      "_________________________________________________________________\n",
      "lstm_5 (LSTM)                (None, 1410, 60)          30000     \n",
      "_________________________________________________________________\n",
      "lstm_6 (LSTM)                (None, 30)                10920     \n",
      "_________________________________________________________________\n",
      "dense_5 (Dense)              (None, 1)                 31        \n",
      "=================================================================\n",
      "Total params: 361,015\n",
      "Trainable params: 361,015\n",
      "Non-trainable params: 0\n",
      "_________________________________________________________________\n",
      "None\n"
     ]
    }
   ],
   "source": [
    "# create the model\n",
    "embedding_vector_length = 64\n",
    "model3 = Sequential()\n",
    "model3.add(Embedding(top_words+1, embedding_vector_length, input_length=max_review_length))\n",
    "model3.add(LSTM(60, return_sequences=True, dropout=0.6))\n",
    "model3.add(LSTM(30, dropout=0.5))\n",
    "model3.add(Dense(1, activation='sigmoid'))\n",
    "model3.compile(loss='binary_crossentropy', optimizer='adam', metrics=['accuracy'])\n",
    "print(model3.summary())\n",
    "#Refer: https://datascience.stackexchange.com/questions/10615/number-of-parameters-in-an-lstm-model"
   ]
  },
  {
   "cell_type": "code",
   "execution_count": 43,
   "metadata": {
    "colab": {
     "base_uri": "https://localhost:8080/",
     "height": 397
    },
    "colab_type": "code",
    "id": "RILwCdJNkqee",
    "outputId": "20011ec8-39e3-4f38-8990-e4e25d000542"
   },
   "outputs": [
    {
     "name": "stdout",
     "output_type": "stream",
     "text": [
      "Train on 35000 samples, validate on 11071 samples\n",
      "Epoch 1/10\n",
      "35000/35000 [==============================] - 356s 10ms/step - loss: 0.9601 - acc: 0.7707 - val_loss: 0.4412 - val_acc: 0.8035\n",
      "Epoch 2/10\n",
      "35000/35000 [==============================] - 357s 10ms/step - loss: 0.5798 - acc: 0.8510 - val_loss: 0.2812 - val_acc: 0.8827\n",
      "Epoch 3/10\n",
      "35000/35000 [==============================] - 354s 10ms/step - loss: 0.4704 - acc: 0.8851 - val_loss: 0.3105 - val_acc: 0.8685\n",
      "Epoch 4/10\n",
      "35000/35000 [==============================] - 355s 10ms/step - loss: 0.4059 - acc: 0.9016 - val_loss: 0.3149 - val_acc: 0.8708\n",
      "Epoch 5/10\n",
      "35000/35000 [==============================] - 353s 10ms/step - loss: 0.3694 - acc: 0.9105 - val_loss: 0.3027 - val_acc: 0.8826\n",
      "Epoch 6/10\n",
      "35000/35000 [==============================] - 351s 10ms/step - loss: 0.3746 - acc: 0.9085 - val_loss: 0.3578 - val_acc: 0.8419\n",
      "Epoch 7/10\n",
      "35000/35000 [==============================] - 352s 10ms/step - loss: 0.3494 - acc: 0.9117 - val_loss: 0.3484 - val_acc: 0.8605\n",
      "Epoch 8/10\n",
      "35000/35000 [==============================] - 351s 10ms/step - loss: 0.3172 - acc: 0.9221 - val_loss: 0.3441 - val_acc: 0.8592\n",
      "Epoch 9/10\n",
      "35000/35000 [==============================] - 352s 10ms/step - loss: 0.2978 - acc: 0.9259 - val_loss: 0.3097 - val_acc: 0.8834\n",
      "Epoch 10/10\n",
      "35000/35000 [==============================] - 351s 10ms/step - loss: 0.2664 - acc: 0.9347 - val_loss: 0.2821 - val_acc: 0.8945\n",
      "Accuracy: 89.45%\n"
     ]
    }
   ],
   "source": [
    "history3 = model3.fit(X_train, y_train, nb_epoch=10, batch_size=500, verbose=1, \n",
    "                      validation_data=(X_test, y_test), class_weight={0: 5, 1: 1})\n",
    "# Final evaluation of the model\n",
    "scores3 = model3.evaluate(X_test, y_test, verbose=0)\n",
    "print(\"Accuracy: %.2f%%\" % (scores3[1]*100))\n",
    "with open('history3.pkl', 'wb') as hfile:\n",
    "  pickle.dump(history3, hfile)"
   ]
  },
  {
   "cell_type": "code",
   "execution_count": 44,
   "metadata": {
    "colab": {
     "base_uri": "https://localhost:8080/",
     "height": 283
    },
    "colab_type": "code",
    "id": "-6cydRAjGAcs",
    "outputId": "1e01c16b-84d1-40dd-99b4-ece53f45bd8c"
   },
   "outputs": [
    {
     "data": {
      "image/png": "[encoded data removed]",
      "text/plain": [
       "<Figure size 432x288 with 1 Axes>"
      ]
     },
     "metadata": {
      "tags": []
     },
     "output_type": "display_data"
    }
   ],
   "source": [
    "with open('history3.pkl', 'rb') as hfile:\n",
    "  history3 = pickle.load(hfile)\n",
    "\n",
    "fig,ax = plt.subplots(1,1)\n",
    "ax.set_xlabel('epoch') ; ax.set_ylabel('Categorical Crossentropy Loss')\n",
    "# list of epoch numbers\n",
    "x = list(range(1, 10+1))\n",
    "\n",
    "vy = history3.history['val_loss']\n",
    "ty = history3.history['loss']\n",
    "plt_dynamic(x, vy, ty, ax)"
   ]
  },
  {
   "cell_type": "markdown",
   "metadata": {
    "colab_type": "text",
    "id": "ZV9O3RG7Svxi"
   },
   "source": [
    "# [6] Conclusion"
   ]
  },
  {
   "cell_type": "code",
   "execution_count": 9,
   "metadata": {
    "ExecuteTime": {
     "end_time": "2019-05-21T13:37:09.976581Z",
     "start_time": "2019-05-21T13:37:09.963616Z"
    },
    "colab": {
     "base_uri": "https://localhost:8080/",
     "height": 829
    },
    "colab_type": "code",
    "id": "t0KIJYGqX5LA",
    "outputId": "44a3bab5-1ee4-4e78-8e70-fd268917bf5e"
   },
   "outputs": [
    {
     "name": "stdout",
     "output_type": "stream",
     "text": [
      "+---+-------------------------------------------------------+------------+----------+---------+--------------+-------------+\n",
      "|   |                   Model Architecture                  |LSTM Dropout|Train Loss|Test Loss|Train Accuracy|Test Accuracy|\n",
      "+---+-------------------------------------------------------+------------+----------+---------+--------------+-------------+\n",
      "| 1 |                                                       |            |          |         |              |             |\n",
      "|   |_______________________________________________________|            |          |         |              |             |\n",
      "|   | Layer (type)            Output Shape       Param #    |            |          |         |              |             |\n",
      "|   |=======================================================|            |          |         |              |             |\n",
      "|   | embedding_4 (Embedding) (None, 1410, 32)    160032    |            |          |         |              |             |\n",
      "|   |_______________________________________________________|            |          |         |              |             |\n",
      "|   | lstm_4 (LSTM)           (None, 35)          9520      |    0.5     |  0.2738  |  0.3163 |    93.33%    |    88.23%   |\n",
      "|   |_______________________________________________________|            |          |         |              |             |\n",
      "|   |   dense_4 (Dense)         (None, 1)      36           |            |          |         |              |             |\n",
      "|   |=======================================================|            |          |         |              |             |\n",
      "|   |                 Total params: 169,588                 |            |          |         |              |             |\n",
      "|   |               Trainable params: 169,588               |            |          |         |              |             |\n",
      "|   |                Non-trainable params: 0                |            |          |         |              |             |\n",
      "|   |_______________________________________________________|            |          |         |              |             |\n",
      "|===|=======================================================|   ======   |  ======  |  ====== |    ======    |    ======   |\n",
      "| 2 |                                                       |            |          |         |              |             |\n",
      "|   | Layer (type)            Output Shape        Param #   |            |          |         |              |             |\n",
      "|   |=======================================================|            |          |         |              |             |\n",
      "|   | embedding_3 (Embedding) (None, 1410, 32)    160032    |            |          |         |              |             |\n",
      "|   |_______________________________________________________|            |          |         |              |             |\n",
      "|   |                    bidirectional_6                    |            |  0.3076  |  0.3270 |    92.55%    |    87.08%   |\n",
      "|   | (Bidirectional LSTM)    (None, 1410, 80)    23360     |    0.7     |          |         |              |             |\n",
      "|   |_______________________________________________________|            |          |         |              |             |\n",
      "|   | lstm_12 (LSTM)          (None, 40)          19360     |            |          |         |              |             |\n",
      "|   |_______________________________________________________|    0.5     |          |         |              |             |\n",
      "|   | dense_6 (Dense)         (None, 1)           41        |            |          |         |              |             |\n",
      "|   |=======================================================|            |          |         |              |             |\n",
      "|   |                 Total params: 202,793                 |            |          |         |              |             |\n",
      "|   |               Trainable params: 202,793               |            |          |         |              |             |\n",
      "|   |                Non-trainable params: 0                |            |          |         |              |             |\n",
      "|   |_______________________________________________________|            |          |         |              |             |\n",
      "|===|=======================================================|   ======   |  ======  |  ====== |    ======    |    ======   |\n",
      "| 3 |                                                       |            |          |         |              |             |\n",
      "|   | Layer (type)            Output Shape        Param #   |            |          |         |              |             |\n",
      "|   |=======================================================|            |          |         |              |             |\n",
      "|   | embedding_5 (Embedding) (None, 1410, 64)    320064    |            |          |         |              |             |\n",
      "|   |_______________________________________________________|            |          |         |              |             |\n",
      "|   | lstm_5 (LSTM)           (None, 1410, 60)    30000     |    0.6     |  0.2664  |  0.2821 |    93.47%    |    89.45%   |\n",
      "|   |_______________________________________________________|            |          |         |              |             |\n",
      "|   | lstm_6 (LSTM)           (None, 30)          10920     |    0.5     |          |         |              |             |\n",
      "|   |_______________________________________________________|            |          |         |              |             |\n",
      "|   | dense_5 (Dense)         (None, 1)           31        |            |          |         |              |             |\n",
      "|   |=======================================================|            |          |         |              |             |\n",
      "|   |                 Total params: 361,015                 |            |          |         |              |             |\n",
      "|   |               Trainable params: 361,015               |            |          |         |              |             |\n",
      "|   |                Non-trainable params: 0                |            |          |         |              |             |\n",
      "+---+-------------------------------------------------------+------------+----------+---------+--------------+-------------+\n"
     ]
    }
   ],
   "source": [
    "from prettytable import PrettyTable\n",
    "x = PrettyTable(field_names=[\" \", \"Model Architecture\", \"LSTM Dropout\", \"Train Loss\", \"Test Loss\", \"Train Accuracy\", \n",
    "                             \"Test Accuracy\"])\n",
    "x.add_row([\"1\", \n",
    "'''\n",
    "_______________________________________________________\n",
    "Layer (type)            Output Shape       Param #   \n",
    "=======================================================\n",
    "embedding_4 (Embedding) (None, 1410, 32)    160032    \n",
    "_______________________________________________________\n",
    "lstm_4 (LSTM)           (None, 35)          9520      \n",
    "_______________________________________________________\n",
    "dense_4 (Dense)         (None, 1)      36        \n",
    "=======================================================\n",
    "Total params: 169,588\n",
    "Trainable params: 169,588\n",
    "Non-trainable params: 0\n",
    "_______________________________________________________''', \"\\n\\n\\n\\n\\n\\n0.5\" , \"\\n\\n\\n\\n\\n\\n0.2738\", \"\\n\\n\\n\\n\\n\\n0.3163\", \n",
    "           \"\\n\\n\\n\\n\\n\\n93.33%\", \"\\n\\n\\n\\n\\n\\n88.23%\"\n",
    "])\n",
    "x.add_row([\"===\", \"=======================================================\", \"======\",\"======\", \"======\", \"======\",\"======\"])\n",
    "x.add_row([\"2\", '''\n",
    "Layer (type)            Output Shape        Param #   \n",
    "=======================================================\n",
    "embedding_3 (Embedding) (None, 1410, 32)    160032    \n",
    "_______________________________________________________\n",
    "bidirectional_6\n",
    "(Bidirectional LSTM)    (None, 1410, 80)    23360     \n",
    "_______________________________________________________\n",
    "lstm_12 (LSTM)          (None, 40)          19360     \n",
    "_______________________________________________________\n",
    "dense_6 (Dense)         (None, 1)           41        \n",
    "=======================================================\n",
    "Total params: 202,793\n",
    "Trainable params: 202,793\n",
    "Non-trainable params: 0\n",
    "_______________________________________________________''', '''\\n\\n\\n\\n\\n\\n0.7\\n\\n\\n0.5''', \"\\n\\n\\n\\n\\n0.3076\", \n",
    "           \"\\n\\n\\n\\n\\n0.3270\", \"\\n\\n\\n\\n\\n92.55%\", \"\\n\\n\\n\\n\\n87.08%\"])\n",
    "x.add_row([\"===\", \"=======================================================\", \"======\", \"======\",\"======\",\"======\",\"======\"])\n",
    "x.add_row([\"3\", '''\n",
    "Layer (type)            Output Shape        Param #   \n",
    "=======================================================\n",
    "embedding_5 (Embedding) (None, 1410, 64)    320064    \n",
    "_______________________________________________________\n",
    "lstm_5 (LSTM)           (None, 1410, 60)    30000     \n",
    "_______________________________________________________\n",
    "lstm_6 (LSTM)           (None, 30)          10920     \n",
    "_______________________________________________________\n",
    "dense_5 (Dense)         (None, 1)           31        \n",
    "=======================================================\n",
    "Total params: 361,015\n",
    "Trainable params: 361,015\n",
    "Non-trainable params: 0''', '''\\n\\n\\n\\n\\n0.6\\n\\n0.5''', \"\\n\\n\\n\\n\\n0.2664\", \"\\n\\n\\n\\n\\n0.2821\", \n",
    "           \"\\n\\n\\n\\n\\n93.47%\", \"\\n\\n\\n\\n\\n89.45%\"])\n",
    "\n",
    "x.padding_width = 0\n",
    "print(x)"
   ]
  }
 ],
 "metadata": {
  "accelerator": "GPU",
  "colab": {
   "collapsed_sections": [
    "jNC8HEoBChWf",
    "8wugXnjtChWj",
    "YmKFSMRoChWm",
    "tUdW-oABChXZ",
    "1lWaQ1eFChXb",
    "fu12_ACbChYY",
    "3pg73rLEChYa",
    "N317lr0XChZk",
    "54S3lxKpChZl",
    "0yM9WAwTRBvx"
   ],
   "name": "Assignment14.ipynb",
   "provenance": [],
   "version": "0.3.2"
  },
  "hide_input": false,
  "kernelspec": {
   "display_name": "Python 3",
   "language": "python",
   "name": "python3"
  },
  "language_info": {
   "codemirror_mode": {
    "name": "ipython",
    "version": 3
   },
   "file_extension": ".py",
   "mimetype": "text/x-python",
   "name": "python",
   "nbconvert_exporter": "python",
   "pygments_lexer": "ipython3",
   "version": "3.6.8"
  },
  "toc": {
   "base_numbering": 1,
   "nav_menu": {},
   "number_sections": false,
   "sideBar": true,
   "skip_h1_title": false,
   "title_cell": "Table of Contents",
   "title_sidebar": "Contents",
   "toc_cell": false,
   "toc_position": {},
   "toc_section_display": true,
   "toc_window_display": true
  }
 },
 "nbformat": 4,
 "nbformat_minor": 1
}
